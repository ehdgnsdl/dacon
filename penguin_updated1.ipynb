{
  "nbformat": 4,
  "nbformat_minor": 0,
  "metadata": {
    "colab": {
      "name": "Untitled1.ipynb",
      "provenance": [],
      "collapsed_sections": [],
      "include_colab_link": true
    },
    "kernelspec": {
      "name": "python3",
      "display_name": "Python 3"
    },
    "language_info": {
      "name": "python"
    },
    "accelerator": "GPU"
  },
  "cells": [
    {
      "cell_type": "markdown",
      "metadata": {
        "id": "view-in-github",
        "colab_type": "text"
      },
      "source": [
        "<a href=\"https://colab.research.google.com/github/ehdgnsdl/dacon/blob/main/penguin_updated1.ipynb\" target=\"_parent\"><img src=\"https://colab.research.google.com/assets/colab-badge.svg\" alt=\"Open In Colab\"/></a>"
      ]
    },
    {
      "cell_type": "code",
      "source": [
        "from google.colab import drive\n",
        "drive.mount('/content/drive')"
      ],
      "metadata": {
        "colab": {
          "base_uri": "https://localhost:8080/"
        },
        "id": "hyI8RGRp34rq",
        "outputId": "4baf419f-11f9-4774-bc1f-a73120ff9854"
      },
      "execution_count": null,
      "outputs": [
        {
          "output_type": "stream",
          "name": "stdout",
          "text": [
            "Mounted at /content/drive\n"
          ]
        }
      ]
    },
    {
      "cell_type": "code",
      "source": [
        "import warnings\n",
        "warnings.filterwarnings(action='ignore')\n",
        "\n",
        "from os.path import join\n",
        "import pandas as pd\n",
        "import numpy as np\n",
        "import multiprocessing\n",
        "\n",
        "n_cpus = multiprocessing.cpu_count()\n",
        "\n",
        "ROOT_PATH = ''\n",
        "data = pd.read_csv('/content/drive/MyDrive/Colab Notebooks/dacon/penguin/train.csv')\n",
        "x_test = pd.read_csv('/content/drive/MyDrive/Colab Notebooks/dacon/penguin/test.csv')"
      ],
      "metadata": {
        "id": "1N7VvP0b356_"
      },
      "execution_count": null,
      "outputs": []
    },
    {
      "cell_type": "code",
      "source": [
        "data.head()"
      ],
      "metadata": {
        "colab": {
          "base_uri": "https://localhost:8080/",
          "height": 372
        },
        "id": "KxbVzd0j6PaY",
        "outputId": "2ba375f0-dfe8-4dff-9d5d-5733faebe147"
      },
      "execution_count": null,
      "outputs": [
        {
          "output_type": "execute_result",
          "data": {
            "text/html": [
              "\n",
              "  <div id=\"df-04d13767-e743-428b-84ee-8719fae83444\">\n",
              "    <div class=\"colab-df-container\">\n",
              "      <div>\n",
              "<style scoped>\n",
              "    .dataframe tbody tr th:only-of-type {\n",
              "        vertical-align: middle;\n",
              "    }\n",
              "\n",
              "    .dataframe tbody tr th {\n",
              "        vertical-align: top;\n",
              "    }\n",
              "\n",
              "    .dataframe thead th {\n",
              "        text-align: right;\n",
              "    }\n",
              "</style>\n",
              "<table border=\"1\" class=\"dataframe\">\n",
              "  <thead>\n",
              "    <tr style=\"text-align: right;\">\n",
              "      <th></th>\n",
              "      <th>id</th>\n",
              "      <th>Species</th>\n",
              "      <th>Island</th>\n",
              "      <th>Clutch Completion</th>\n",
              "      <th>Culmen Length (mm)</th>\n",
              "      <th>Culmen Depth (mm)</th>\n",
              "      <th>Flipper Length (mm)</th>\n",
              "      <th>Sex</th>\n",
              "      <th>Delta 15 N (o/oo)</th>\n",
              "      <th>Delta 13 C (o/oo)</th>\n",
              "      <th>Body Mass (g)</th>\n",
              "    </tr>\n",
              "  </thead>\n",
              "  <tbody>\n",
              "    <tr>\n",
              "      <th>0</th>\n",
              "      <td>0</td>\n",
              "      <td>Gentoo penguin (Pygoscelis papua)</td>\n",
              "      <td>Biscoe</td>\n",
              "      <td>Yes</td>\n",
              "      <td>50.0</td>\n",
              "      <td>15.3</td>\n",
              "      <td>220</td>\n",
              "      <td>MALE</td>\n",
              "      <td>8.30515</td>\n",
              "      <td>-25.19017</td>\n",
              "      <td>5550</td>\n",
              "    </tr>\n",
              "    <tr>\n",
              "      <th>1</th>\n",
              "      <td>1</td>\n",
              "      <td>Chinstrap penguin (Pygoscelis antarctica)</td>\n",
              "      <td>Dream</td>\n",
              "      <td>No</td>\n",
              "      <td>49.5</td>\n",
              "      <td>19.0</td>\n",
              "      <td>200</td>\n",
              "      <td>MALE</td>\n",
              "      <td>9.63074</td>\n",
              "      <td>-24.34684</td>\n",
              "      <td>3800</td>\n",
              "    </tr>\n",
              "    <tr>\n",
              "      <th>2</th>\n",
              "      <td>2</td>\n",
              "      <td>Gentoo penguin (Pygoscelis papua)</td>\n",
              "      <td>Biscoe</td>\n",
              "      <td>Yes</td>\n",
              "      <td>45.1</td>\n",
              "      <td>14.4</td>\n",
              "      <td>210</td>\n",
              "      <td>FEMALE</td>\n",
              "      <td>8.51951</td>\n",
              "      <td>-27.01854</td>\n",
              "      <td>4400</td>\n",
              "    </tr>\n",
              "    <tr>\n",
              "      <th>3</th>\n",
              "      <td>3</td>\n",
              "      <td>Gentoo penguin (Pygoscelis papua)</td>\n",
              "      <td>Biscoe</td>\n",
              "      <td>Yes</td>\n",
              "      <td>44.5</td>\n",
              "      <td>14.7</td>\n",
              "      <td>214</td>\n",
              "      <td>FEMALE</td>\n",
              "      <td>8.20106</td>\n",
              "      <td>-26.16524</td>\n",
              "      <td>4850</td>\n",
              "    </tr>\n",
              "    <tr>\n",
              "      <th>4</th>\n",
              "      <td>4</td>\n",
              "      <td>Gentoo penguin (Pygoscelis papua)</td>\n",
              "      <td>Biscoe</td>\n",
              "      <td>No</td>\n",
              "      <td>49.6</td>\n",
              "      <td>16.0</td>\n",
              "      <td>225</td>\n",
              "      <td>MALE</td>\n",
              "      <td>8.38324</td>\n",
              "      <td>-26.84272</td>\n",
              "      <td>5700</td>\n",
              "    </tr>\n",
              "  </tbody>\n",
              "</table>\n",
              "</div>\n",
              "      <button class=\"colab-df-convert\" onclick=\"convertToInteractive('df-04d13767-e743-428b-84ee-8719fae83444')\"\n",
              "              title=\"Convert this dataframe to an interactive table.\"\n",
              "              style=\"display:none;\">\n",
              "        \n",
              "  <svg xmlns=\"http://www.w3.org/2000/svg\" height=\"24px\"viewBox=\"0 0 24 24\"\n",
              "       width=\"24px\">\n",
              "    <path d=\"M0 0h24v24H0V0z\" fill=\"none\"/>\n",
              "    <path d=\"M18.56 5.44l.94 2.06.94-2.06 2.06-.94-2.06-.94-.94-2.06-.94 2.06-2.06.94zm-11 1L8.5 8.5l.94-2.06 2.06-.94-2.06-.94L8.5 2.5l-.94 2.06-2.06.94zm10 10l.94 2.06.94-2.06 2.06-.94-2.06-.94-.94-2.06-.94 2.06-2.06.94z\"/><path d=\"M17.41 7.96l-1.37-1.37c-.4-.4-.92-.59-1.43-.59-.52 0-1.04.2-1.43.59L10.3 9.45l-7.72 7.72c-.78.78-.78 2.05 0 2.83L4 21.41c.39.39.9.59 1.41.59.51 0 1.02-.2 1.41-.59l7.78-7.78 2.81-2.81c.8-.78.8-2.07 0-2.86zM5.41 20L4 18.59l7.72-7.72 1.47 1.35L5.41 20z\"/>\n",
              "  </svg>\n",
              "      </button>\n",
              "      \n",
              "  <style>\n",
              "    .colab-df-container {\n",
              "      display:flex;\n",
              "      flex-wrap:wrap;\n",
              "      gap: 12px;\n",
              "    }\n",
              "\n",
              "    .colab-df-convert {\n",
              "      background-color: #E8F0FE;\n",
              "      border: none;\n",
              "      border-radius: 50%;\n",
              "      cursor: pointer;\n",
              "      display: none;\n",
              "      fill: #1967D2;\n",
              "      height: 32px;\n",
              "      padding: 0 0 0 0;\n",
              "      width: 32px;\n",
              "    }\n",
              "\n",
              "    .colab-df-convert:hover {\n",
              "      background-color: #E2EBFA;\n",
              "      box-shadow: 0px 1px 2px rgba(60, 64, 67, 0.3), 0px 1px 3px 1px rgba(60, 64, 67, 0.15);\n",
              "      fill: #174EA6;\n",
              "    }\n",
              "\n",
              "    [theme=dark] .colab-df-convert {\n",
              "      background-color: #3B4455;\n",
              "      fill: #D2E3FC;\n",
              "    }\n",
              "\n",
              "    [theme=dark] .colab-df-convert:hover {\n",
              "      background-color: #434B5C;\n",
              "      box-shadow: 0px 1px 3px 1px rgba(0, 0, 0, 0.15);\n",
              "      filter: drop-shadow(0px 1px 2px rgba(0, 0, 0, 0.3));\n",
              "      fill: #FFFFFF;\n",
              "    }\n",
              "  </style>\n",
              "\n",
              "      <script>\n",
              "        const buttonEl =\n",
              "          document.querySelector('#df-04d13767-e743-428b-84ee-8719fae83444 button.colab-df-convert');\n",
              "        buttonEl.style.display =\n",
              "          google.colab.kernel.accessAllowed ? 'block' : 'none';\n",
              "\n",
              "        async function convertToInteractive(key) {\n",
              "          const element = document.querySelector('#df-04d13767-e743-428b-84ee-8719fae83444');\n",
              "          const dataTable =\n",
              "            await google.colab.kernel.invokeFunction('convertToInteractive',\n",
              "                                                     [key], {});\n",
              "          if (!dataTable) return;\n",
              "\n",
              "          const docLinkHtml = 'Like what you see? Visit the ' +\n",
              "            '<a target=\"_blank\" href=https://colab.research.google.com/notebooks/data_table.ipynb>data table notebook</a>'\n",
              "            + ' to learn more about interactive tables.';\n",
              "          element.innerHTML = '';\n",
              "          dataTable['output_type'] = 'display_data';\n",
              "          await google.colab.output.renderOutput(dataTable, element);\n",
              "          const docLink = document.createElement('div');\n",
              "          docLink.innerHTML = docLinkHtml;\n",
              "          element.appendChild(docLink);\n",
              "        }\n",
              "      </script>\n",
              "    </div>\n",
              "  </div>\n",
              "  "
            ],
            "text/plain": [
              "   id  ... Body Mass (g)\n",
              "0   0  ...          5550\n",
              "1   1  ...          3800\n",
              "2   2  ...          4400\n",
              "3   3  ...          4850\n",
              "4   4  ...          5700\n",
              "\n",
              "[5 rows x 11 columns]"
            ]
          },
          "metadata": {},
          "execution_count": 6
        }
      ]
    },
    {
      "cell_type": "code",
      "source": [
        "data.info()"
      ],
      "metadata": {
        "colab": {
          "base_uri": "https://localhost:8080/"
        },
        "id": "ojNbNjcD6opO",
        "outputId": "33558557-434a-4988-b03a-57fe771099ec"
      },
      "execution_count": null,
      "outputs": [
        {
          "output_type": "stream",
          "name": "stdout",
          "text": [
            "<class 'pandas.core.frame.DataFrame'>\n",
            "RangeIndex: 114 entries, 0 to 113\n",
            "Data columns (total 11 columns):\n",
            " #   Column               Non-Null Count  Dtype  \n",
            "---  ------               --------------  -----  \n",
            " 0   id                   114 non-null    int64  \n",
            " 1   Species              114 non-null    object \n",
            " 2   Island               114 non-null    object \n",
            " 3   Clutch Completion    114 non-null    object \n",
            " 4   Culmen Length (mm)   114 non-null    float64\n",
            " 5   Culmen Depth (mm)    114 non-null    float64\n",
            " 6   Flipper Length (mm)  114 non-null    int64  \n",
            " 7   Sex                  111 non-null    object \n",
            " 8   Delta 15 N (o/oo)    111 non-null    float64\n",
            " 9   Delta 13 C (o/oo)    111 non-null    float64\n",
            " 10  Body Mass (g)        114 non-null    int64  \n",
            "dtypes: float64(4), int64(3), object(4)\n",
            "memory usage: 9.9+ KB\n"
          ]
        }
      ]
    },
    {
      "cell_type": "code",
      "source": [
        "data['Flipper Length (mm)'] = data['Flipper Length (mm)'].astype('float')\n",
        "data['Flipper Length (mm)'].dtype"
      ],
      "metadata": {
        "colab": {
          "base_uri": "https://localhost:8080/"
        },
        "id": "V-hjcVi6Qbqh",
        "outputId": "1a6d65ce-6748-468e-ae26-1dcfb7d50395"
      },
      "execution_count": null,
      "outputs": [
        {
          "output_type": "execute_result",
          "data": {
            "text/plain": [
              "dtype('float64')"
            ]
          },
          "metadata": {},
          "execution_count": 8
        }
      ]
    },
    {
      "cell_type": "code",
      "source": [
        "x_test.info()"
      ],
      "metadata": {
        "colab": {
          "base_uri": "https://localhost:8080/"
        },
        "id": "kN-XwdVx6qnn",
        "outputId": "bb2d81bf-1ee1-4ee0-f590-7aaaca691438"
      },
      "execution_count": null,
      "outputs": [
        {
          "output_type": "stream",
          "name": "stdout",
          "text": [
            "<class 'pandas.core.frame.DataFrame'>\n",
            "RangeIndex: 228 entries, 0 to 227\n",
            "Data columns (total 10 columns):\n",
            " #   Column               Non-Null Count  Dtype  \n",
            "---  ------               --------------  -----  \n",
            " 0   id                   228 non-null    int64  \n",
            " 1   Species              228 non-null    object \n",
            " 2   Island               228 non-null    object \n",
            " 3   Clutch Completion    228 non-null    object \n",
            " 4   Culmen Length (mm)   228 non-null    float64\n",
            " 5   Culmen Depth (mm)    228 non-null    float64\n",
            " 6   Flipper Length (mm)  228 non-null    float64\n",
            " 7   Sex                  222 non-null    object \n",
            " 8   Delta 15 N (o/oo)    219 non-null    float64\n",
            " 9   Delta 13 C (o/oo)    220 non-null    float64\n",
            "dtypes: float64(5), int64(1), object(4)\n",
            "memory usage: 17.9+ KB\n"
          ]
        }
      ]
    },
    {
      "cell_type": "code",
      "source": [
        "label = data['Body Mass (g)']\n",
        "\n",
        "data.drop(columns=['id', 'Body Mass (g)'], inplace=True)\n",
        "x_test.drop(columns=['id'], inplace=True)"
      ],
      "metadata": {
        "id": "OH3Lr-o26sBE"
      },
      "execution_count": null,
      "outputs": []
    },
    {
      "cell_type": "code",
      "source": [
        "cat_columns = [c for c, t in zip(data.dtypes.index, data.dtypes) if t =='O']\n",
        "num_columns = [c for c in data.columns if c not in cat_columns]\n",
        "\n",
        "print('Categorical Columns: \\n{}\\n\\n Numeric Columns: \\n{}\\n'.format(cat_columns, num_columns))"
      ],
      "metadata": {
        "colab": {
          "base_uri": "https://localhost:8080/"
        },
        "id": "P56c_9p-8B60",
        "outputId": "5eba317c-74ed-4553-bdcb-6681387b5289"
      },
      "execution_count": null,
      "outputs": [
        {
          "output_type": "stream",
          "name": "stdout",
          "text": [
            "Categorical Columns: \n",
            "['Species', 'Island', 'Clutch Completion', 'Sex']\n",
            "\n",
            " Numeric Columns: \n",
            "['Culmen Length (mm)', 'Culmen Depth (mm)', 'Flipper Length (mm)', 'Delta 15 N (o/oo)', 'Delta 13 C (o/oo)']\n",
            "\n"
          ]
        }
      ]
    },
    {
      "cell_type": "code",
      "source": [
        "# data 수치형 변수들의 결측치 확인\n",
        "pd.isna(data[num_columns]).sum().sum()"
      ],
      "metadata": {
        "colab": {
          "base_uri": "https://localhost:8080/"
        },
        "id": "2kXpdbyF8hmQ",
        "outputId": "f7703f80-0bb0-46b3-f2be-631b91eebe76"
      },
      "execution_count": null,
      "outputs": [
        {
          "output_type": "execute_result",
          "data": {
            "text/plain": [
              "6"
            ]
          },
          "metadata": {},
          "execution_count": 12
        }
      ]
    },
    {
      "cell_type": "code",
      "source": [
        "# x_test 수치형 변수들의 결측치 확인\n",
        "pd.isna(x_test[num_columns]).sum().sum()"
      ],
      "metadata": {
        "colab": {
          "base_uri": "https://localhost:8080/"
        },
        "id": "2j2gYcEf8sYd",
        "outputId": "ac799950-0362-4efe-d7dc-f013a4035943"
      },
      "execution_count": null,
      "outputs": [
        {
          "output_type": "execute_result",
          "data": {
            "text/plain": [
              "17"
            ]
          },
          "metadata": {},
          "execution_count": 13
        }
      ]
    },
    {
      "cell_type": "code",
      "source": [
        "from sklearn.model_selection import train_test_split\n",
        "\n",
        "x_train, x_valid, y_train, y_valid = train_test_split(data, label,\n",
        "                                                      test_size = 0.3,\n",
        "                                                      random_state=42,\n",
        "                                                      shuffle=True)\n",
        "x_train.reset_index(drop=True, inplace=True)\n",
        "x_valid.reset_index(drop=True, inplace=True)"
      ],
      "metadata": {
        "id": "2cZmEnab80Gi"
      },
      "execution_count": null,
      "outputs": []
    },
    {
      "cell_type": "code",
      "source": [
        "from sklearn.experimental import enable_iterative_imputer\n",
        "from sklearn.impute import IterativeImputer\n",
        "\n",
        "mice = IterativeImputer(random_state=0)\n",
        "x_train[num_columns] = mice.fit_transform(x_train[num_columns])\n",
        "x_valid[num_columns] = mice.transform(x_valid[num_columns])\n",
        "x_test[num_columns] = mice.transform(x_test[num_columns])"
      ],
      "metadata": {
        "id": "3yMdtqRF9hg_"
      },
      "execution_count": null,
      "outputs": []
    },
    {
      "cell_type": "code",
      "source": [
        "pd.isna(x_train[num_columns]).sum().sum()"
      ],
      "metadata": {
        "colab": {
          "base_uri": "https://localhost:8080/"
        },
        "id": "isQQg0ZH-Qqa",
        "outputId": "cec69fd9-6269-4452-ba72-1a79829279ab"
      },
      "execution_count": null,
      "outputs": [
        {
          "output_type": "execute_result",
          "data": {
            "text/plain": [
              "0"
            ]
          },
          "metadata": {},
          "execution_count": 16
        }
      ]
    },
    {
      "cell_type": "code",
      "source": [
        "pd.isna(x_valid[num_columns]).sum().sum()"
      ],
      "metadata": {
        "colab": {
          "base_uri": "https://localhost:8080/"
        },
        "id": "R-uEVmD3-SBt",
        "outputId": "149b3add-5c9a-4095-a018-45bbc6aaf1b9"
      },
      "execution_count": null,
      "outputs": [
        {
          "output_type": "execute_result",
          "data": {
            "text/plain": [
              "0"
            ]
          },
          "metadata": {},
          "execution_count": 17
        }
      ]
    },
    {
      "cell_type": "code",
      "source": [
        "pd.isna(x_test[num_columns]).sum().sum()"
      ],
      "metadata": {
        "colab": {
          "base_uri": "https://localhost:8080/"
        },
        "id": "j_dksPS_-TiW",
        "outputId": "6b42fa5b-95c2-4d05-c0ee-68155d2e488e"
      },
      "execution_count": null,
      "outputs": [
        {
          "output_type": "execute_result",
          "data": {
            "text/plain": [
              "0"
            ]
          },
          "metadata": {},
          "execution_count": 18
        }
      ]
    },
    {
      "cell_type": "code",
      "source": [
        "# 범주형 변수 결측치 처리 및 라벨인코딩\n",
        "from sklearn.preprocessing import OneHotEncoder, LabelEncoder\n",
        "\n",
        "ohe = OneHotEncoder(sparse=False)\n",
        "ohe.fit(data[cat_columns])"
      ],
      "metadata": {
        "colab": {
          "base_uri": "https://localhost:8080/"
        },
        "id": "7iqnH9r8CkqX",
        "outputId": "c463829f-e09f-41ef-e12f-0540e9a23b48"
      },
      "execution_count": null,
      "outputs": [
        {
          "output_type": "execute_result",
          "data": {
            "text/plain": [
              "OneHotEncoder(sparse=False)"
            ]
          },
          "metadata": {},
          "execution_count": 19
        }
      ]
    },
    {
      "cell_type": "code",
      "source": [
        "onehot_columns = ohe.categories_[0].tolist()\n",
        "for col in ohe.categories_[1:]:\n",
        "  onehot_columns += col.tolist()"
      ],
      "metadata": {
        "id": "TJ5n2-GECsZx"
      },
      "execution_count": null,
      "outputs": []
    },
    {
      "cell_type": "code",
      "source": [
        "x_train_cat = pd.DataFrame(ohe.transform(x_train[cat_columns]), columns=onehot_columns)\n",
        "x_valid_cat = pd.DataFrame(ohe.transform(x_valid[cat_columns]), columns=onehot_columns)\n",
        "x_test_cat  = pd.DataFrame(ohe.transform(x_test[cat_columns]),  columns=onehot_columns)"
      ],
      "metadata": {
        "id": "qryViWtPC2RS"
      },
      "execution_count": null,
      "outputs": []
    },
    {
      "cell_type": "code",
      "source": [
        "# .values를 해줌으로써 밑에 Xgboost에서 featuer_names is unique라는 에러를 해결\n",
        "x_train = pd.concat([x_train[num_columns], x_train_cat], axis=1)\n",
        "x_valid = pd.concat([x_valid[num_columns], x_valid_cat], axis=1)\n",
        "x_test  = pd.concat([x_test[num_columns],  x_test_cat],  axis=1)"
      ],
      "metadata": {
        "id": "QCUGJb8VC7MY"
      },
      "execution_count": null,
      "outputs": []
    },
    {
      "cell_type": "code",
      "source": [
        "y_train.shape"
      ],
      "metadata": {
        "colab": {
          "base_uri": "https://localhost:8080/"
        },
        "id": "QBQY7NXtC_BY",
        "outputId": "e5744dd8-6d1c-4918-96c2-2dbf28edbce7"
      },
      "execution_count": null,
      "outputs": [
        {
          "output_type": "execute_result",
          "data": {
            "text/plain": [
              "(79,)"
            ]
          },
          "metadata": {},
          "execution_count": 23
        }
      ]
    },
    {
      "cell_type": "code",
      "source": [
        "# 라벨 변수 Label Encoding\n",
        "le = LabelEncoder()\n",
        "le.fit(y_train)"
      ],
      "metadata": {
        "colab": {
          "base_uri": "https://localhost:8080/"
        },
        "id": "6b3JmK33DBky",
        "outputId": "e559bc34-8d04-4e10-b0ed-f43eb03023fe"
      },
      "execution_count": null,
      "outputs": [
        {
          "output_type": "execute_result",
          "data": {
            "text/plain": [
              "LabelEncoder()"
            ]
          },
          "metadata": {},
          "execution_count": 24
        }
      ]
    },
    {
      "cell_type": "code",
      "source": [
        "y_valid"
      ],
      "metadata": {
        "colab": {
          "base_uri": "https://localhost:8080/"
        },
        "id": "VA6yzeskDGtb",
        "outputId": "c96c22d8-29c2-403a-92d3-59fb10d47890"
      },
      "execution_count": null,
      "outputs": [
        {
          "output_type": "execute_result",
          "data": {
            "text/plain": [
              "80     3900\n",
              "4      5700\n",
              "40     5250\n",
              "69     5350\n",
              "10     4550\n",
              "45     4800\n",
              "70     4650\n",
              "66     5650\n",
              "47     4725\n",
              "11     3300\n",
              "98     5500\n",
              "36     5000\n",
              "83     4700\n",
              "112    2700\n",
              "18     4650\n",
              "0      5550\n",
              "72     4500\n",
              "26     4400\n",
              "81     3900\n",
              "53     3800\n",
              "103    5350\n",
              "91     4075\n",
              "12     4850\n",
              "31     3450\n",
              "67     6300\n",
              "111    4100\n",
              "108    4300\n",
              "22     4650\n",
              "44     3800\n",
              "107    3650\n",
              "78     5400\n",
              "15     5000\n",
              "30     3750\n",
              "104    5000\n",
              "9      4750\n",
              "Name: Body Mass (g), dtype: int64"
            ]
          },
          "metadata": {},
          "execution_count": 25
        }
      ]
    },
    {
      "cell_type": "code",
      "source": [
        "# 스케일링\n",
        "from sklearn.preprocessing import StandardScaler\n",
        "sclaer = StandardScaler()\n",
        "x_train[num_columns] = sclaer.fit_transform(x_train[num_columns])\n",
        "x_valid[num_columns] = sclaer.transform(x_valid[num_columns])\n",
        "x_test[num_columns] = sclaer.transform(x_test[num_columns])"
      ],
      "metadata": {
        "id": "d2zHrgpd-VZa"
      },
      "execution_count": null,
      "outputs": []
    },
    {
      "cell_type": "code",
      "source": [
        "# 스케일링 확인 (std인 표준편차가 1에 가까워야함)\n",
        "x_train[num_columns].describe()"
      ],
      "metadata": {
        "colab": {
          "base_uri": "https://localhost:8080/",
          "height": 300
        },
        "id": "HD3uWOsu-hsZ",
        "outputId": "9af8d37a-8816-4ec1-9dc8-6065d4e16832"
      },
      "execution_count": null,
      "outputs": [
        {
          "output_type": "execute_result",
          "data": {
            "text/html": [
              "\n",
              "  <div id=\"df-2be66102-c6d1-45e0-9f5a-e924f8816a61\">\n",
              "    <div class=\"colab-df-container\">\n",
              "      <div>\n",
              "<style scoped>\n",
              "    .dataframe tbody tr th:only-of-type {\n",
              "        vertical-align: middle;\n",
              "    }\n",
              "\n",
              "    .dataframe tbody tr th {\n",
              "        vertical-align: top;\n",
              "    }\n",
              "\n",
              "    .dataframe thead th {\n",
              "        text-align: right;\n",
              "    }\n",
              "</style>\n",
              "<table border=\"1\" class=\"dataframe\">\n",
              "  <thead>\n",
              "    <tr style=\"text-align: right;\">\n",
              "      <th></th>\n",
              "      <th>Culmen Length (mm)</th>\n",
              "      <th>Culmen Depth (mm)</th>\n",
              "      <th>Flipper Length (mm)</th>\n",
              "      <th>Delta 15 N (o/oo)</th>\n",
              "      <th>Delta 13 C (o/oo)</th>\n",
              "    </tr>\n",
              "  </thead>\n",
              "  <tbody>\n",
              "    <tr>\n",
              "      <th>count</th>\n",
              "      <td>7.900000e+01</td>\n",
              "      <td>7.900000e+01</td>\n",
              "      <td>7.900000e+01</td>\n",
              "      <td>7.900000e+01</td>\n",
              "      <td>7.900000e+01</td>\n",
              "    </tr>\n",
              "    <tr>\n",
              "      <th>mean</th>\n",
              "      <td>5.621382e-18</td>\n",
              "      <td>-1.319620e-15</td>\n",
              "      <td>4.314411e-16</td>\n",
              "      <td>8.432074e-16</td>\n",
              "      <td>1.023092e-15</td>\n",
              "    </tr>\n",
              "    <tr>\n",
              "      <th>std</th>\n",
              "      <td>1.006390e+00</td>\n",
              "      <td>1.006390e+00</td>\n",
              "      <td>1.006390e+00</td>\n",
              "      <td>1.006390e+00</td>\n",
              "      <td>1.006390e+00</td>\n",
              "    </tr>\n",
              "    <tr>\n",
              "      <th>min</th>\n",
              "      <td>-1.948239e+00</td>\n",
              "      <td>-1.980462e+00</td>\n",
              "      <td>-1.906274e+00</td>\n",
              "      <td>-1.991752e+00</td>\n",
              "      <td>-1.559992e+00</td>\n",
              "    </tr>\n",
              "    <tr>\n",
              "      <th>25%</th>\n",
              "      <td>-8.526895e-01</td>\n",
              "      <td>-7.281967e-01</td>\n",
              "      <td>-7.871240e-01</td>\n",
              "      <td>-8.470913e-01</td>\n",
              "      <td>-7.869291e-01</td>\n",
              "    </tr>\n",
              "    <tr>\n",
              "      <th>50%</th>\n",
              "      <td>7.714643e-02</td>\n",
              "      <td>6.405284e-02</td>\n",
              "      <td>-2.974957e-01</td>\n",
              "      <td>-2.042377e-01</td>\n",
              "      <td>-2.972046e-01</td>\n",
              "    </tr>\n",
              "    <tr>\n",
              "      <th>75%</th>\n",
              "      <td>8.780942e-01</td>\n",
              "      <td>7.796331e-01</td>\n",
              "      <td>8.566282e-01</td>\n",
              "      <td>9.924208e-01</td>\n",
              "      <td>8.066664e-01</td>\n",
              "    </tr>\n",
              "    <tr>\n",
              "      <th>max</th>\n",
              "      <td>2.028881e+00</td>\n",
              "      <td>2.006342e+00</td>\n",
              "      <td>2.010752e+00</td>\n",
              "      <td>2.280513e+00</td>\n",
              "      <td>1.903624e+00</td>\n",
              "    </tr>\n",
              "  </tbody>\n",
              "</table>\n",
              "</div>\n",
              "      <button class=\"colab-df-convert\" onclick=\"convertToInteractive('df-2be66102-c6d1-45e0-9f5a-e924f8816a61')\"\n",
              "              title=\"Convert this dataframe to an interactive table.\"\n",
              "              style=\"display:none;\">\n",
              "        \n",
              "  <svg xmlns=\"http://www.w3.org/2000/svg\" height=\"24px\"viewBox=\"0 0 24 24\"\n",
              "       width=\"24px\">\n",
              "    <path d=\"M0 0h24v24H0V0z\" fill=\"none\"/>\n",
              "    <path d=\"M18.56 5.44l.94 2.06.94-2.06 2.06-.94-2.06-.94-.94-2.06-.94 2.06-2.06.94zm-11 1L8.5 8.5l.94-2.06 2.06-.94-2.06-.94L8.5 2.5l-.94 2.06-2.06.94zm10 10l.94 2.06.94-2.06 2.06-.94-2.06-.94-.94-2.06-.94 2.06-2.06.94z\"/><path d=\"M17.41 7.96l-1.37-1.37c-.4-.4-.92-.59-1.43-.59-.52 0-1.04.2-1.43.59L10.3 9.45l-7.72 7.72c-.78.78-.78 2.05 0 2.83L4 21.41c.39.39.9.59 1.41.59.51 0 1.02-.2 1.41-.59l7.78-7.78 2.81-2.81c.8-.78.8-2.07 0-2.86zM5.41 20L4 18.59l7.72-7.72 1.47 1.35L5.41 20z\"/>\n",
              "  </svg>\n",
              "      </button>\n",
              "      \n",
              "  <style>\n",
              "    .colab-df-container {\n",
              "      display:flex;\n",
              "      flex-wrap:wrap;\n",
              "      gap: 12px;\n",
              "    }\n",
              "\n",
              "    .colab-df-convert {\n",
              "      background-color: #E8F0FE;\n",
              "      border: none;\n",
              "      border-radius: 50%;\n",
              "      cursor: pointer;\n",
              "      display: none;\n",
              "      fill: #1967D2;\n",
              "      height: 32px;\n",
              "      padding: 0 0 0 0;\n",
              "      width: 32px;\n",
              "    }\n",
              "\n",
              "    .colab-df-convert:hover {\n",
              "      background-color: #E2EBFA;\n",
              "      box-shadow: 0px 1px 2px rgba(60, 64, 67, 0.3), 0px 1px 3px 1px rgba(60, 64, 67, 0.15);\n",
              "      fill: #174EA6;\n",
              "    }\n",
              "\n",
              "    [theme=dark] .colab-df-convert {\n",
              "      background-color: #3B4455;\n",
              "      fill: #D2E3FC;\n",
              "    }\n",
              "\n",
              "    [theme=dark] .colab-df-convert:hover {\n",
              "      background-color: #434B5C;\n",
              "      box-shadow: 0px 1px 3px 1px rgba(0, 0, 0, 0.15);\n",
              "      filter: drop-shadow(0px 1px 2px rgba(0, 0, 0, 0.3));\n",
              "      fill: #FFFFFF;\n",
              "    }\n",
              "  </style>\n",
              "\n",
              "      <script>\n",
              "        const buttonEl =\n",
              "          document.querySelector('#df-2be66102-c6d1-45e0-9f5a-e924f8816a61 button.colab-df-convert');\n",
              "        buttonEl.style.display =\n",
              "          google.colab.kernel.accessAllowed ? 'block' : 'none';\n",
              "\n",
              "        async function convertToInteractive(key) {\n",
              "          const element = document.querySelector('#df-2be66102-c6d1-45e0-9f5a-e924f8816a61');\n",
              "          const dataTable =\n",
              "            await google.colab.kernel.invokeFunction('convertToInteractive',\n",
              "                                                     [key], {});\n",
              "          if (!dataTable) return;\n",
              "\n",
              "          const docLinkHtml = 'Like what you see? Visit the ' +\n",
              "            '<a target=\"_blank\" href=https://colab.research.google.com/notebooks/data_table.ipynb>data table notebook</a>'\n",
              "            + ' to learn more about interactive tables.';\n",
              "          element.innerHTML = '';\n",
              "          dataTable['output_type'] = 'display_data';\n",
              "          await google.colab.output.renderOutput(dataTable, element);\n",
              "          const docLink = document.createElement('div');\n",
              "          docLink.innerHTML = docLinkHtml;\n",
              "          element.appendChild(docLink);\n",
              "        }\n",
              "      </script>\n",
              "    </div>\n",
              "  </div>\n",
              "  "
            ],
            "text/plain": [
              "       Culmen Length (mm)  ...  Delta 13 C (o/oo)\n",
              "count        7.900000e+01  ...       7.900000e+01\n",
              "mean         5.621382e-18  ...       1.023092e-15\n",
              "std          1.006390e+00  ...       1.006390e+00\n",
              "min         -1.948239e+00  ...      -1.559992e+00\n",
              "25%         -8.526895e-01  ...      -7.869291e-01\n",
              "50%          7.714643e-02  ...      -2.972046e-01\n",
              "75%          8.780942e-01  ...       8.066664e-01\n",
              "max          2.028881e+00  ...       1.903624e+00\n",
              "\n",
              "[8 rows x 5 columns]"
            ]
          },
          "metadata": {},
          "execution_count": 27
        }
      ]
    },
    {
      "cell_type": "code",
      "source": [
        "def RMSE(true, pred):\n",
        "    score = np.sqrt(np.mean(np.square(true-pred)))\n",
        "    return score"
      ],
      "metadata": {
        "id": "jWl9s2LRBjPI"
      },
      "execution_count": null,
      "outputs": []
    },
    {
      "cell_type": "code",
      "source": [
        "x_train.info()"
      ],
      "metadata": {
        "colab": {
          "base_uri": "https://localhost:8080/"
        },
        "id": "XocYZfV3CR4D",
        "outputId": "2cabfcff-e650-41a5-80be-672711099190"
      },
      "execution_count": null,
      "outputs": [
        {
          "output_type": "stream",
          "name": "stdout",
          "text": [
            "<class 'pandas.core.frame.DataFrame'>\n",
            "RangeIndex: 79 entries, 0 to 78\n",
            "Data columns (total 16 columns):\n",
            " #   Column                                     Non-Null Count  Dtype  \n",
            "---  ------                                     --------------  -----  \n",
            " 0   Culmen Length (mm)                         79 non-null     float64\n",
            " 1   Culmen Depth (mm)                          79 non-null     float64\n",
            " 2   Flipper Length (mm)                        79 non-null     float64\n",
            " 3   Delta 15 N (o/oo)                          79 non-null     float64\n",
            " 4   Delta 13 C (o/oo)                          79 non-null     float64\n",
            " 5   Adelie Penguin (Pygoscelis adeliae)        79 non-null     float64\n",
            " 6   Chinstrap penguin (Pygoscelis antarctica)  79 non-null     float64\n",
            " 7   Gentoo penguin (Pygoscelis papua)          79 non-null     float64\n",
            " 8   Biscoe                                     79 non-null     float64\n",
            " 9   Dream                                      79 non-null     float64\n",
            " 10  Torgersen                                  79 non-null     float64\n",
            " 11  No                                         79 non-null     float64\n",
            " 12  Yes                                        79 non-null     float64\n",
            " 13  FEMALE                                     79 non-null     float64\n",
            " 14  MALE                                       79 non-null     float64\n",
            " 15  nan                                        79 non-null     float64\n",
            "dtypes: float64(16)\n",
            "memory usage: 10.0 KB\n"
          ]
        }
      ]
    },
    {
      "cell_type": "code",
      "source": [
        "# 모델 검증 + OOF 앙상블\n",
        "from sklearn.model_selection import KFold\n",
        "n_splits = 5\n",
        "kf = KFold(n_splits=n_splits, shuffle=True, random_state=42)"
      ],
      "metadata": {
        "id": "M7Pc6jLmN5XZ"
      },
      "execution_count": null,
      "outputs": []
    },
    {
      "cell_type": "code",
      "source": [
        "# 회귀 모델 사용해보기\n",
        "from sklearn.linear_model import LinearRegression\n",
        "from sklearn.neural_network import MLPRegressor\n",
        "from sklearn.ensemble import RandomForestRegressor\n",
        "from xgboost import XGBRegressor\n",
        "from lightgbm import LGBMRegressor\n",
        "\n",
        "val_scores = list()\n",
        "#oof_pred = np.zeros((x_test.shape[0], label.shape[0])\n",
        "\n",
        "models = [['Linear Regression', LinearRegression(n_jobs=n_cpus)],\n",
        "          ['MultiLayerPerceptron', MLPRegressor(random_state=42)],\n",
        "          ['RandomForest', RandomForestRegressor(random_state=42,\n",
        "                                                 n_jobs=n_cpus)],\n",
        "          ['XGBoost', XGBRegressor(random_state=42,\n",
        "                                   tree_method='gpu_hist',\n",
        "                                   n_jobs=n_cpus)],\n",
        "          ['LightGBM', LGBMRegressor(random_state=42,\n",
        "                                     tree_method='gpu_hist',\n",
        "                                     n_jobs=n_cpus)]]\n",
        "\n",
        "best_loss = np.inf\n",
        "best_pred = None\n",
        "for i, (name, model) in enumerate(models):\n",
        "  current_loss = list()\n",
        "  current_pred = list()\n",
        "  \n",
        "  model.fit(x_train, y_train)\n",
        "  y_pred = model.predict(x_valid)\n",
        "  current_loss.append(RMSE(y_valid, y_pred))\n",
        "  current_pred.append(model.predict(x_test))\n",
        "\n",
        "  if np.mean(current_loss) < best_loss:\n",
        "      best_loss  = np.mean(current_loss)\n",
        "      best_model = [i, name]\n",
        "      best_pred  = current_pred\n",
        "      #oof_pred += model.predict(x_test) / n_splits\n",
        "    \n",
        "  print(f'{name} Model Validation RMSE: {np.mean(current_loss)}')\n",
        "\n",
        "print(f'Best Model: {best_model[-1]}, RMSE: {best_loss}')"
      ],
      "metadata": {
        "colab": {
          "base_uri": "https://localhost:8080/"
        },
        "id": "UDwJxULn-kol",
        "outputId": "b9cad691-6ab9-4ad2-f903-cef94f823fbc"
      },
      "execution_count": null,
      "outputs": [
        {
          "output_type": "stream",
          "name": "stdout",
          "text": [
            "Linear Regression Model Validation RMSE: 345.59930641040074\n",
            "MultiLayerPerceptron Model Validation RMSE: 4632.256876832222\n",
            "RandomForest Model Validation RMSE: 441.50552698368665\n",
            "[04:31:37] WARNING: /workspace/src/objective/regression_obj.cu:152: reg:linear is now deprecated in favor of reg:squarederror.\n",
            "XGBoost Model Validation RMSE: 386.85679306184494\n",
            "LightGBM Model Validation RMSE: 403.621426772355\n",
            "Best Model: Linear Regression, RMSE: 345.59930641040074\n"
          ]
        }
      ]
    },
    {
      "cell_type": "code",
      "source": [
        "# best_pred를 np.array()로 만든 후에 (list를 array로 만들어줌.)\n",
        "best_pred = np.array(best_pred)\n",
        "best_pred.shape"
      ],
      "metadata": {
        "colab": {
          "base_uri": "https://localhost:8080/"
        },
        "id": "vy5f_lsYDkRc",
        "outputId": "c8447340-b55d-4902-81c5-3662424b60e8"
      },
      "execution_count": null,
      "outputs": [
        {
          "output_type": "execute_result",
          "data": {
            "text/plain": [
              "(1, 228)"
            ]
          },
          "metadata": {},
          "execution_count": 36
        }
      ]
    },
    {
      "cell_type": "code",
      "source": [
        "best_pred = best_pred.reshape(-1, 1)\n",
        "best_pred.shape"
      ],
      "metadata": {
        "colab": {
          "base_uri": "https://localhost:8080/"
        },
        "id": "ZQO5z75-IoaU",
        "outputId": "cb4c49ed-7e5c-4f9a-b202-d54810f80759"
      },
      "execution_count": null,
      "outputs": [
        {
          "output_type": "execute_result",
          "data": {
            "text/plain": [
              "(228, 1)"
            ]
          },
          "metadata": {},
          "execution_count": 37
        }
      ]
    },
    {
      "cell_type": "code",
      "source": [
        "submit = pd.read_csv('/content/drive/MyDrive/Colab Notebooks/dacon/penguin/sample_submission.csv')\n",
        "submit.head()"
      ],
      "metadata": {
        "colab": {
          "base_uri": "https://localhost:8080/",
          "height": 206
        },
        "id": "DupZriyqG1Xx",
        "outputId": "3b0ca62c-a3bc-46c8-a2e2-46584319a518"
      },
      "execution_count": null,
      "outputs": [
        {
          "output_type": "execute_result",
          "data": {
            "text/html": [
              "\n",
              "  <div id=\"df-1760ea32-8916-4066-b170-4930bd58f9e9\">\n",
              "    <div class=\"colab-df-container\">\n",
              "      <div>\n",
              "<style scoped>\n",
              "    .dataframe tbody tr th:only-of-type {\n",
              "        vertical-align: middle;\n",
              "    }\n",
              "\n",
              "    .dataframe tbody tr th {\n",
              "        vertical-align: top;\n",
              "    }\n",
              "\n",
              "    .dataframe thead th {\n",
              "        text-align: right;\n",
              "    }\n",
              "</style>\n",
              "<table border=\"1\" class=\"dataframe\">\n",
              "  <thead>\n",
              "    <tr style=\"text-align: right;\">\n",
              "      <th></th>\n",
              "      <th>id</th>\n",
              "      <th>Body Mass (g)</th>\n",
              "    </tr>\n",
              "  </thead>\n",
              "  <tbody>\n",
              "    <tr>\n",
              "      <th>0</th>\n",
              "      <td>0</td>\n",
              "      <td>0</td>\n",
              "    </tr>\n",
              "    <tr>\n",
              "      <th>1</th>\n",
              "      <td>1</td>\n",
              "      <td>0</td>\n",
              "    </tr>\n",
              "    <tr>\n",
              "      <th>2</th>\n",
              "      <td>2</td>\n",
              "      <td>0</td>\n",
              "    </tr>\n",
              "    <tr>\n",
              "      <th>3</th>\n",
              "      <td>3</td>\n",
              "      <td>0</td>\n",
              "    </tr>\n",
              "    <tr>\n",
              "      <th>4</th>\n",
              "      <td>4</td>\n",
              "      <td>0</td>\n",
              "    </tr>\n",
              "  </tbody>\n",
              "</table>\n",
              "</div>\n",
              "      <button class=\"colab-df-convert\" onclick=\"convertToInteractive('df-1760ea32-8916-4066-b170-4930bd58f9e9')\"\n",
              "              title=\"Convert this dataframe to an interactive table.\"\n",
              "              style=\"display:none;\">\n",
              "        \n",
              "  <svg xmlns=\"http://www.w3.org/2000/svg\" height=\"24px\"viewBox=\"0 0 24 24\"\n",
              "       width=\"24px\">\n",
              "    <path d=\"M0 0h24v24H0V0z\" fill=\"none\"/>\n",
              "    <path d=\"M18.56 5.44l.94 2.06.94-2.06 2.06-.94-2.06-.94-.94-2.06-.94 2.06-2.06.94zm-11 1L8.5 8.5l.94-2.06 2.06-.94-2.06-.94L8.5 2.5l-.94 2.06-2.06.94zm10 10l.94 2.06.94-2.06 2.06-.94-2.06-.94-.94-2.06-.94 2.06-2.06.94z\"/><path d=\"M17.41 7.96l-1.37-1.37c-.4-.4-.92-.59-1.43-.59-.52 0-1.04.2-1.43.59L10.3 9.45l-7.72 7.72c-.78.78-.78 2.05 0 2.83L4 21.41c.39.39.9.59 1.41.59.51 0 1.02-.2 1.41-.59l7.78-7.78 2.81-2.81c.8-.78.8-2.07 0-2.86zM5.41 20L4 18.59l7.72-7.72 1.47 1.35L5.41 20z\"/>\n",
              "  </svg>\n",
              "      </button>\n",
              "      \n",
              "  <style>\n",
              "    .colab-df-container {\n",
              "      display:flex;\n",
              "      flex-wrap:wrap;\n",
              "      gap: 12px;\n",
              "    }\n",
              "\n",
              "    .colab-df-convert {\n",
              "      background-color: #E8F0FE;\n",
              "      border: none;\n",
              "      border-radius: 50%;\n",
              "      cursor: pointer;\n",
              "      display: none;\n",
              "      fill: #1967D2;\n",
              "      height: 32px;\n",
              "      padding: 0 0 0 0;\n",
              "      width: 32px;\n",
              "    }\n",
              "\n",
              "    .colab-df-convert:hover {\n",
              "      background-color: #E2EBFA;\n",
              "      box-shadow: 0px 1px 2px rgba(60, 64, 67, 0.3), 0px 1px 3px 1px rgba(60, 64, 67, 0.15);\n",
              "      fill: #174EA6;\n",
              "    }\n",
              "\n",
              "    [theme=dark] .colab-df-convert {\n",
              "      background-color: #3B4455;\n",
              "      fill: #D2E3FC;\n",
              "    }\n",
              "\n",
              "    [theme=dark] .colab-df-convert:hover {\n",
              "      background-color: #434B5C;\n",
              "      box-shadow: 0px 1px 3px 1px rgba(0, 0, 0, 0.15);\n",
              "      filter: drop-shadow(0px 1px 2px rgba(0, 0, 0, 0.3));\n",
              "      fill: #FFFFFF;\n",
              "    }\n",
              "  </style>\n",
              "\n",
              "      <script>\n",
              "        const buttonEl =\n",
              "          document.querySelector('#df-1760ea32-8916-4066-b170-4930bd58f9e9 button.colab-df-convert');\n",
              "        buttonEl.style.display =\n",
              "          google.colab.kernel.accessAllowed ? 'block' : 'none';\n",
              "\n",
              "        async function convertToInteractive(key) {\n",
              "          const element = document.querySelector('#df-1760ea32-8916-4066-b170-4930bd58f9e9');\n",
              "          const dataTable =\n",
              "            await google.colab.kernel.invokeFunction('convertToInteractive',\n",
              "                                                     [key], {});\n",
              "          if (!dataTable) return;\n",
              "\n",
              "          const docLinkHtml = 'Like what you see? Visit the ' +\n",
              "            '<a target=\"_blank\" href=https://colab.research.google.com/notebooks/data_table.ipynb>data table notebook</a>'\n",
              "            + ' to learn more about interactive tables.';\n",
              "          element.innerHTML = '';\n",
              "          dataTable['output_type'] = 'display_data';\n",
              "          await google.colab.output.renderOutput(dataTable, element);\n",
              "          const docLink = document.createElement('div');\n",
              "          docLink.innerHTML = docLinkHtml;\n",
              "          element.appendChild(docLink);\n",
              "        }\n",
              "      </script>\n",
              "    </div>\n",
              "  </div>\n",
              "  "
            ],
            "text/plain": [
              "   id  Body Mass (g)\n",
              "0   0              0\n",
              "1   1              0\n",
              "2   2              0\n",
              "3   3              0\n",
              "4   4              0"
            ]
          },
          "metadata": {},
          "execution_count": 38
        }
      ]
    },
    {
      "cell_type": "code",
      "source": [
        "submit['Body Mass (g)'] = best_pred"
      ],
      "metadata": {
        "id": "c0kS50vZ_Ni0"
      },
      "execution_count": null,
      "outputs": []
    },
    {
      "cell_type": "code",
      "source": [
        "submit_file_name = 'penguin_second.csv'\n",
        "submit.to_csv(submit_file_name, index=False)"
      ],
      "metadata": {
        "id": "X224qByBG_tL"
      },
      "execution_count": null,
      "outputs": []
    },
    {
      "cell_type": "code",
      "source": [
        ""
      ],
      "metadata": {
        "id": "BjkziM2jD2Cp"
      },
      "execution_count": null,
      "outputs": []
    }
  ]
}