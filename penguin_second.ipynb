{
  "nbformat": 4,
  "nbformat_minor": 0,
  "metadata": {
    "colab": {
      "name": "penguin_second.ipynb",
      "provenance": [],
      "collapsed_sections": [],
      "include_colab_link": true
    },
    "kernelspec": {
      "name": "python3",
      "display_name": "Python 3"
    },
    "language_info": {
      "name": "python"
    },
    "accelerator": "GPU"
  },
  "cells": [
    {
      "cell_type": "markdown",
      "metadata": {
        "id": "view-in-github",
        "colab_type": "text"
      },
      "source": [
        "<a href=\"https://colab.research.google.com/github/ehdgnsdl/dacon/blob/main/penguin_second.ipynb\" target=\"_parent\"><img src=\"https://colab.research.google.com/assets/colab-badge.svg\" alt=\"Open In Colab\"/></a>"
      ]
    },
    {
      "cell_type": "code",
      "source": [
        "from google.colab import drive\n",
        "drive.mount('/content/drive')"
      ],
      "metadata": {
        "colab": {
          "base_uri": "https://localhost:8080/"
        },
        "id": "hyI8RGRp34rq",
        "outputId": "e0e28eaa-fadb-40ae-dfc1-1f71b60eec86"
      },
      "execution_count": 1,
      "outputs": [
        {
          "output_type": "stream",
          "name": "stdout",
          "text": [
            "Mounted at /content/drive\n"
          ]
        }
      ]
    },
    {
      "cell_type": "code",
      "source": [
        "import warnings\n",
        "warnings.filterwarnings(action='ignore')\n",
        "\n",
        "from os.path import join\n",
        "import pandas as pd\n",
        "import numpy as np\n",
        "import multiprocessing\n",
        "\n",
        "n_cpus = multiprocessing.cpu_count()\n",
        "\n",
        "ROOT_PATH = ''\n",
        "data = pd.read_csv('/content/drive/MyDrive/Colab Notebooks/dacon/penguin/train.csv')\n",
        "x_test = pd.read_csv('/content/drive/MyDrive/Colab Notebooks/dacon/penguin/test.csv')"
      ],
      "metadata": {
        "id": "1N7VvP0b356_"
      },
      "execution_count": 2,
      "outputs": []
    },
    {
      "cell_type": "code",
      "source": [
        "data.head()"
      ],
      "metadata": {
        "colab": {
          "base_uri": "https://localhost:8080/",
          "height": 565
        },
        "id": "KxbVzd0j6PaY",
        "outputId": "b7391ba1-763a-435e-80ab-acea4c9be345"
      },
      "execution_count": 3,
      "outputs": [
        {
          "output_type": "execute_result",
          "data": {
            "text/html": [
              "\n",
              "  <div id=\"df-33380c36-40b3-4c8c-bc1c-e33e5cfa2479\">\n",
              "    <div class=\"colab-df-container\">\n",
              "      <div>\n",
              "<style scoped>\n",
              "    .dataframe tbody tr th:only-of-type {\n",
              "        vertical-align: middle;\n",
              "    }\n",
              "\n",
              "    .dataframe tbody tr th {\n",
              "        vertical-align: top;\n",
              "    }\n",
              "\n",
              "    .dataframe thead th {\n",
              "        text-align: right;\n",
              "    }\n",
              "</style>\n",
              "<table border=\"1\" class=\"dataframe\">\n",
              "  <thead>\n",
              "    <tr style=\"text-align: right;\">\n",
              "      <th></th>\n",
              "      <th>id</th>\n",
              "      <th>Species</th>\n",
              "      <th>Island</th>\n",
              "      <th>Clutch Completion</th>\n",
              "      <th>Culmen Length (mm)</th>\n",
              "      <th>Culmen Depth (mm)</th>\n",
              "      <th>Flipper Length (mm)</th>\n",
              "      <th>Sex</th>\n",
              "      <th>Delta 15 N (o/oo)</th>\n",
              "      <th>Delta 13 C (o/oo)</th>\n",
              "      <th>Body Mass (g)</th>\n",
              "    </tr>\n",
              "  </thead>\n",
              "  <tbody>\n",
              "    <tr>\n",
              "      <th>0</th>\n",
              "      <td>0</td>\n",
              "      <td>Gentoo penguin (Pygoscelis papua)</td>\n",
              "      <td>Biscoe</td>\n",
              "      <td>Yes</td>\n",
              "      <td>50.0</td>\n",
              "      <td>15.3</td>\n",
              "      <td>220</td>\n",
              "      <td>MALE</td>\n",
              "      <td>8.30515</td>\n",
              "      <td>-25.19017</td>\n",
              "      <td>5550</td>\n",
              "    </tr>\n",
              "    <tr>\n",
              "      <th>1</th>\n",
              "      <td>1</td>\n",
              "      <td>Chinstrap penguin (Pygoscelis antarctica)</td>\n",
              "      <td>Dream</td>\n",
              "      <td>No</td>\n",
              "      <td>49.5</td>\n",
              "      <td>19.0</td>\n",
              "      <td>200</td>\n",
              "      <td>MALE</td>\n",
              "      <td>9.63074</td>\n",
              "      <td>-24.34684</td>\n",
              "      <td>3800</td>\n",
              "    </tr>\n",
              "    <tr>\n",
              "      <th>2</th>\n",
              "      <td>2</td>\n",
              "      <td>Gentoo penguin (Pygoscelis papua)</td>\n",
              "      <td>Biscoe</td>\n",
              "      <td>Yes</td>\n",
              "      <td>45.1</td>\n",
              "      <td>14.4</td>\n",
              "      <td>210</td>\n",
              "      <td>FEMALE</td>\n",
              "      <td>8.51951</td>\n",
              "      <td>-27.01854</td>\n",
              "      <td>4400</td>\n",
              "    </tr>\n",
              "    <tr>\n",
              "      <th>3</th>\n",
              "      <td>3</td>\n",
              "      <td>Gentoo penguin (Pygoscelis papua)</td>\n",
              "      <td>Biscoe</td>\n",
              "      <td>Yes</td>\n",
              "      <td>44.5</td>\n",
              "      <td>14.7</td>\n",
              "      <td>214</td>\n",
              "      <td>FEMALE</td>\n",
              "      <td>8.20106</td>\n",
              "      <td>-26.16524</td>\n",
              "      <td>4850</td>\n",
              "    </tr>\n",
              "    <tr>\n",
              "      <th>4</th>\n",
              "      <td>4</td>\n",
              "      <td>Gentoo penguin (Pygoscelis papua)</td>\n",
              "      <td>Biscoe</td>\n",
              "      <td>No</td>\n",
              "      <td>49.6</td>\n",
              "      <td>16.0</td>\n",
              "      <td>225</td>\n",
              "      <td>MALE</td>\n",
              "      <td>8.38324</td>\n",
              "      <td>-26.84272</td>\n",
              "      <td>5700</td>\n",
              "    </tr>\n",
              "  </tbody>\n",
              "</table>\n",
              "</div>\n",
              "      <button class=\"colab-df-convert\" onclick=\"convertToInteractive('df-33380c36-40b3-4c8c-bc1c-e33e5cfa2479')\"\n",
              "              title=\"Convert this dataframe to an interactive table.\"\n",
              "              style=\"display:none;\">\n",
              "        \n",
              "  <svg xmlns=\"http://www.w3.org/2000/svg\" height=\"24px\"viewBox=\"0 0 24 24\"\n",
              "       width=\"24px\">\n",
              "    <path d=\"M0 0h24v24H0V0z\" fill=\"none\"/>\n",
              "    <path d=\"M18.56 5.44l.94 2.06.94-2.06 2.06-.94-2.06-.94-.94-2.06-.94 2.06-2.06.94zm-11 1L8.5 8.5l.94-2.06 2.06-.94-2.06-.94L8.5 2.5l-.94 2.06-2.06.94zm10 10l.94 2.06.94-2.06 2.06-.94-2.06-.94-.94-2.06-.94 2.06-2.06.94z\"/><path d=\"M17.41 7.96l-1.37-1.37c-.4-.4-.92-.59-1.43-.59-.52 0-1.04.2-1.43.59L10.3 9.45l-7.72 7.72c-.78.78-.78 2.05 0 2.83L4 21.41c.39.39.9.59 1.41.59.51 0 1.02-.2 1.41-.59l7.78-7.78 2.81-2.81c.8-.78.8-2.07 0-2.86zM5.41 20L4 18.59l7.72-7.72 1.47 1.35L5.41 20z\"/>\n",
              "  </svg>\n",
              "      </button>\n",
              "      \n",
              "  <style>\n",
              "    .colab-df-container {\n",
              "      display:flex;\n",
              "      flex-wrap:wrap;\n",
              "      gap: 12px;\n",
              "    }\n",
              "\n",
              "    .colab-df-convert {\n",
              "      background-color: #E8F0FE;\n",
              "      border: none;\n",
              "      border-radius: 50%;\n",
              "      cursor: pointer;\n",
              "      display: none;\n",
              "      fill: #1967D2;\n",
              "      height: 32px;\n",
              "      padding: 0 0 0 0;\n",
              "      width: 32px;\n",
              "    }\n",
              "\n",
              "    .colab-df-convert:hover {\n",
              "      background-color: #E2EBFA;\n",
              "      box-shadow: 0px 1px 2px rgba(60, 64, 67, 0.3), 0px 1px 3px 1px rgba(60, 64, 67, 0.15);\n",
              "      fill: #174EA6;\n",
              "    }\n",
              "\n",
              "    [theme=dark] .colab-df-convert {\n",
              "      background-color: #3B4455;\n",
              "      fill: #D2E3FC;\n",
              "    }\n",
              "\n",
              "    [theme=dark] .colab-df-convert:hover {\n",
              "      background-color: #434B5C;\n",
              "      box-shadow: 0px 1px 3px 1px rgba(0, 0, 0, 0.15);\n",
              "      filter: drop-shadow(0px 1px 2px rgba(0, 0, 0, 0.3));\n",
              "      fill: #FFFFFF;\n",
              "    }\n",
              "  </style>\n",
              "\n",
              "      <script>\n",
              "        const buttonEl =\n",
              "          document.querySelector('#df-33380c36-40b3-4c8c-bc1c-e33e5cfa2479 button.colab-df-convert');\n",
              "        buttonEl.style.display =\n",
              "          google.colab.kernel.accessAllowed ? 'block' : 'none';\n",
              "\n",
              "        async function convertToInteractive(key) {\n",
              "          const element = document.querySelector('#df-33380c36-40b3-4c8c-bc1c-e33e5cfa2479');\n",
              "          const dataTable =\n",
              "            await google.colab.kernel.invokeFunction('convertToInteractive',\n",
              "                                                     [key], {});\n",
              "          if (!dataTable) return;\n",
              "\n",
              "          const docLinkHtml = 'Like what you see? Visit the ' +\n",
              "            '<a target=\"_blank\" href=https://colab.research.google.com/notebooks/data_table.ipynb>data table notebook</a>'\n",
              "            + ' to learn more about interactive tables.';\n",
              "          element.innerHTML = '';\n",
              "          dataTable['output_type'] = 'display_data';\n",
              "          await google.colab.output.renderOutput(dataTable, element);\n",
              "          const docLink = document.createElement('div');\n",
              "          docLink.innerHTML = docLinkHtml;\n",
              "          element.appendChild(docLink);\n",
              "        }\n",
              "      </script>\n",
              "    </div>\n",
              "  </div>\n",
              "  "
            ],
            "text/plain": [
              "   id  ... Body Mass (g)\n",
              "0   0  ...          5550\n",
              "1   1  ...          3800\n",
              "2   2  ...          4400\n",
              "3   3  ...          4850\n",
              "4   4  ...          5700\n",
              "\n",
              "[5 rows x 11 columns]"
            ]
          },
          "metadata": {},
          "execution_count": 3
        }
      ]
    },
    {
      "cell_type": "code",
      "source": [
        "data.info()"
      ],
      "metadata": {
        "colab": {
          "base_uri": "https://localhost:8080/"
        },
        "id": "ojNbNjcD6opO",
        "outputId": "f4902e77-2975-4d31-d765-8c094bb7d773"
      },
      "execution_count": 4,
      "outputs": [
        {
          "output_type": "stream",
          "name": "stdout",
          "text": [
            "<class 'pandas.core.frame.DataFrame'>\n",
            "RangeIndex: 114 entries, 0 to 113\n",
            "Data columns (total 11 columns):\n",
            " #   Column               Non-Null Count  Dtype  \n",
            "---  ------               --------------  -----  \n",
            " 0   id                   114 non-null    int64  \n",
            " 1   Species              114 non-null    object \n",
            " 2   Island               114 non-null    object \n",
            " 3   Clutch Completion    114 non-null    object \n",
            " 4   Culmen Length (mm)   114 non-null    float64\n",
            " 5   Culmen Depth (mm)    114 non-null    float64\n",
            " 6   Flipper Length (mm)  114 non-null    int64  \n",
            " 7   Sex                  111 non-null    object \n",
            " 8   Delta 15 N (o/oo)    111 non-null    float64\n",
            " 9   Delta 13 C (o/oo)    111 non-null    float64\n",
            " 10  Body Mass (g)        114 non-null    int64  \n",
            "dtypes: float64(4), int64(3), object(4)\n",
            "memory usage: 9.9+ KB\n"
          ]
        }
      ]
    },
    {
      "cell_type": "code",
      "source": [
        "data['Flipper Length (mm)'] = data['Flipper Length (mm)'].astype('float')\n",
        "data['Flipper Length (mm)'].dtype"
      ],
      "metadata": {
        "colab": {
          "base_uri": "https://localhost:8080/"
        },
        "id": "V-hjcVi6Qbqh",
        "outputId": "b0a368cc-522c-493f-8757-29f8872ee2e9"
      },
      "execution_count": 5,
      "outputs": [
        {
          "output_type": "execute_result",
          "data": {
            "text/plain": [
              "dtype('float64')"
            ]
          },
          "metadata": {},
          "execution_count": 5
        }
      ]
    },
    {
      "cell_type": "code",
      "source": [
        "x_test.info()"
      ],
      "metadata": {
        "colab": {
          "base_uri": "https://localhost:8080/"
        },
        "id": "kN-XwdVx6qnn",
        "outputId": "01388978-2ba4-4d40-e013-adf6ba2d3613"
      },
      "execution_count": 6,
      "outputs": [
        {
          "output_type": "stream",
          "name": "stdout",
          "text": [
            "<class 'pandas.core.frame.DataFrame'>\n",
            "RangeIndex: 228 entries, 0 to 227\n",
            "Data columns (total 10 columns):\n",
            " #   Column               Non-Null Count  Dtype  \n",
            "---  ------               --------------  -----  \n",
            " 0   id                   228 non-null    int64  \n",
            " 1   Species              228 non-null    object \n",
            " 2   Island               228 non-null    object \n",
            " 3   Clutch Completion    228 non-null    object \n",
            " 4   Culmen Length (mm)   228 non-null    float64\n",
            " 5   Culmen Depth (mm)    228 non-null    float64\n",
            " 6   Flipper Length (mm)  228 non-null    float64\n",
            " 7   Sex                  222 non-null    object \n",
            " 8   Delta 15 N (o/oo)    219 non-null    float64\n",
            " 9   Delta 13 C (o/oo)    220 non-null    float64\n",
            "dtypes: float64(5), int64(1), object(4)\n",
            "memory usage: 17.9+ KB\n"
          ]
        }
      ]
    },
    {
      "cell_type": "code",
      "source": [
        "label = data['Body Mass (g)']\n",
        "\n",
        "data.drop(columns=['id', 'Body Mass (g)'], inplace=True)\n",
        "x_test.drop(columns=['id'], inplace=True)"
      ],
      "metadata": {
        "id": "OH3Lr-o26sBE"
      },
      "execution_count": 7,
      "outputs": []
    },
    {
      "cell_type": "code",
      "source": [
        "cat_columns = [c for c, t in zip(data.dtypes.index, data.dtypes) if t =='O']\n",
        "num_columns = [c for c in data.columns if c not in cat_columns]\n",
        "\n",
        "print('Categorical Columns: \\n{}\\n\\n Numeric Columns: \\n{}\\n'.format(cat_columns, num_columns))"
      ],
      "metadata": {
        "colab": {
          "base_uri": "https://localhost:8080/"
        },
        "id": "P56c_9p-8B60",
        "outputId": "9cb35ebe-cb97-4136-af7b-09c43ca7b962"
      },
      "execution_count": 8,
      "outputs": [
        {
          "output_type": "stream",
          "name": "stdout",
          "text": [
            "Categorical Columns: \n",
            "['Species', 'Island', 'Clutch Completion', 'Sex']\n",
            "\n",
            " Numeric Columns: \n",
            "['Culmen Length (mm)', 'Culmen Depth (mm)', 'Flipper Length (mm)', 'Delta 15 N (o/oo)', 'Delta 13 C (o/oo)']\n",
            "\n"
          ]
        }
      ]
    },
    {
      "cell_type": "code",
      "source": [
        "# data 수치형 변수들의 결측치 확인\n",
        "pd.isna(data[num_columns]).sum().sum()"
      ],
      "metadata": {
        "colab": {
          "base_uri": "https://localhost:8080/"
        },
        "id": "2kXpdbyF8hmQ",
        "outputId": "225a282e-9297-4570-fd04-72dc48708307"
      },
      "execution_count": 9,
      "outputs": [
        {
          "output_type": "execute_result",
          "data": {
            "text/plain": [
              "6"
            ]
          },
          "metadata": {},
          "execution_count": 9
        }
      ]
    },
    {
      "cell_type": "code",
      "source": [
        "# x_test 수치형 변수들의 결측치 확인\n",
        "pd.isna(x_test[num_columns]).sum().sum()"
      ],
      "metadata": {
        "colab": {
          "base_uri": "https://localhost:8080/"
        },
        "id": "2j2gYcEf8sYd",
        "outputId": "244012aa-de82-44f8-c07f-5f8513119f80"
      },
      "execution_count": 10,
      "outputs": [
        {
          "output_type": "execute_result",
          "data": {
            "text/plain": [
              "17"
            ]
          },
          "metadata": {},
          "execution_count": 10
        }
      ]
    },
    {
      "cell_type": "code",
      "source": [
        "from sklearn.model_selection import train_test_split\n",
        "\n",
        "x_train, x_valid, y_train, y_valid = train_test_split(data, label,\n",
        "                                                      test_size = 0.3,\n",
        "                                                      random_state=42,\n",
        "                                                      shuffle=True)\n",
        "x_train.reset_index(drop=True, inplace=True)\n",
        "x_valid.reset_index(drop=True, inplace=True)"
      ],
      "metadata": {
        "id": "2cZmEnab80Gi"
      },
      "execution_count": 11,
      "outputs": []
    },
    {
      "cell_type": "code",
      "source": [
        "from sklearn.experimental import enable_iterative_imputer\n",
        "from sklearn.impute import IterativeImputer\n",
        "\n",
        "mice = IterativeImputer(random_state=0)\n",
        "x_train[num_columns] = mice.fit_transform(x_train[num_columns])\n",
        "x_valid[num_columns] = mice.transform(x_valid[num_columns])\n",
        "x_test[num_columns] = mice.transform(x_test[num_columns])"
      ],
      "metadata": {
        "id": "3yMdtqRF9hg_"
      },
      "execution_count": 13,
      "outputs": []
    },
    {
      "cell_type": "code",
      "source": [
        "pd.isna(x_train[num_columns]).sum().sum()"
      ],
      "metadata": {
        "colab": {
          "base_uri": "https://localhost:8080/"
        },
        "id": "isQQg0ZH-Qqa",
        "outputId": "3a6734fa-3478-434d-b5a0-d19119bc1ceb"
      },
      "execution_count": 14,
      "outputs": [
        {
          "output_type": "execute_result",
          "data": {
            "text/plain": [
              "0"
            ]
          },
          "metadata": {},
          "execution_count": 14
        }
      ]
    },
    {
      "cell_type": "code",
      "source": [
        "pd.isna(x_valid[num_columns]).sum().sum()"
      ],
      "metadata": {
        "colab": {
          "base_uri": "https://localhost:8080/"
        },
        "id": "R-uEVmD3-SBt",
        "outputId": "e354e124-b566-4e59-d708-01be2094ec9b"
      },
      "execution_count": 15,
      "outputs": [
        {
          "output_type": "execute_result",
          "data": {
            "text/plain": [
              "0"
            ]
          },
          "metadata": {},
          "execution_count": 15
        }
      ]
    },
    {
      "cell_type": "code",
      "source": [
        "pd.isna(x_test[num_columns]).sum().sum()"
      ],
      "metadata": {
        "colab": {
          "base_uri": "https://localhost:8080/"
        },
        "id": "j_dksPS_-TiW",
        "outputId": "74058ed9-fa29-4749-b885-232cd0b27d6f"
      },
      "execution_count": 16,
      "outputs": [
        {
          "output_type": "execute_result",
          "data": {
            "text/plain": [
              "0"
            ]
          },
          "metadata": {},
          "execution_count": 16
        }
      ]
    },
    {
      "cell_type": "code",
      "source": [
        "# 범주형 변수 결측치 처리 및 라벨인코딩\n",
        "from sklearn.preprocessing import OneHotEncoder, LabelEncoder\n",
        "\n",
        "ohe = OneHotEncoder(sparse=False)\n",
        "ohe.fit(data[cat_columns])"
      ],
      "metadata": {
        "colab": {
          "base_uri": "https://localhost:8080/"
        },
        "id": "7iqnH9r8CkqX",
        "outputId": "d8a5aa1c-4aae-4230-d156-43816be721de"
      },
      "execution_count": 17,
      "outputs": [
        {
          "output_type": "execute_result",
          "data": {
            "text/plain": [
              "OneHotEncoder(sparse=False)"
            ]
          },
          "metadata": {},
          "execution_count": 17
        }
      ]
    },
    {
      "cell_type": "code",
      "source": [
        "onehot_columns = ohe.categories_[0].tolist()\n",
        "for col in ohe.categories_[1:]:\n",
        "  onehot_columns += col.tolist()"
      ],
      "metadata": {
        "id": "TJ5n2-GECsZx"
      },
      "execution_count": 18,
      "outputs": []
    },
    {
      "cell_type": "code",
      "source": [
        "x_train_cat = pd.DataFrame(ohe.transform(x_train[cat_columns]), columns=onehot_columns)\n",
        "x_valid_cat = pd.DataFrame(ohe.transform(x_valid[cat_columns]), columns=onehot_columns)\n",
        "x_test_cat  = pd.DataFrame(ohe.transform(x_test[cat_columns]),  columns=onehot_columns)"
      ],
      "metadata": {
        "id": "qryViWtPC2RS"
      },
      "execution_count": 19,
      "outputs": []
    },
    {
      "cell_type": "code",
      "source": [
        "# .values를 해줌으로써 밑에 Xgboost에서 featuer_names is unique라는 에러를 해결\n",
        "x_train = pd.concat([x_train[num_columns], x_train_cat], axis=1)\n",
        "x_valid = pd.concat([x_valid[num_columns], x_valid_cat], axis=1)\n",
        "x_test  = pd.concat([x_test[num_columns],  x_test_cat],  axis=1)"
      ],
      "metadata": {
        "id": "QCUGJb8VC7MY"
      },
      "execution_count": 20,
      "outputs": []
    },
    {
      "cell_type": "code",
      "source": [
        "y_train.shape"
      ],
      "metadata": {
        "colab": {
          "base_uri": "https://localhost:8080/"
        },
        "id": "QBQY7NXtC_BY",
        "outputId": "38fc96f9-ae9d-47ec-9394-5e630ccd5657"
      },
      "execution_count": 21,
      "outputs": [
        {
          "output_type": "execute_result",
          "data": {
            "text/plain": [
              "(79,)"
            ]
          },
          "metadata": {},
          "execution_count": 21
        }
      ]
    },
    {
      "cell_type": "code",
      "source": [
        "# 라벨 변수 Label Encoding\n",
        "le = LabelEncoder()\n",
        "label = le.fit(label)"
      ],
      "metadata": {
        "id": "6b3JmK33DBky"
      },
      "execution_count": 36,
      "outputs": []
    },
    {
      "cell_type": "code",
      "source": [
        "# 스케일링\n",
        "from sklearn.preprocessing import StandardScaler\n",
        "sclaer = StandardScaler()\n",
        "x_train[num_columns] = sclaer.fit_transform(x_train[num_columns])\n",
        "x_valid[num_columns] = sclaer.transform(x_valid[num_columns])\n",
        "x_test[num_columns] = sclaer.transform(x_test[num_columns])"
      ],
      "metadata": {
        "id": "d2zHrgpd-VZa"
      },
      "execution_count": 24,
      "outputs": []
    },
    {
      "cell_type": "code",
      "source": [
        "# 스케일링 확인 (std인 표준편차가 1에 가까워야함)\n",
        "x_train[num_columns].describe()"
      ],
      "metadata": {
        "colab": {
          "base_uri": "https://localhost:8080/",
          "height": 362
        },
        "id": "HD3uWOsu-hsZ",
        "outputId": "86495069-577f-4147-a813-11d5162bc995"
      },
      "execution_count": 25,
      "outputs": [
        {
          "output_type": "execute_result",
          "data": {
            "text/html": [
              "\n",
              "  <div id=\"df-182f018b-0eec-426a-ae09-b09419b9d919\">\n",
              "    <div class=\"colab-df-container\">\n",
              "      <div>\n",
              "<style scoped>\n",
              "    .dataframe tbody tr th:only-of-type {\n",
              "        vertical-align: middle;\n",
              "    }\n",
              "\n",
              "    .dataframe tbody tr th {\n",
              "        vertical-align: top;\n",
              "    }\n",
              "\n",
              "    .dataframe thead th {\n",
              "        text-align: right;\n",
              "    }\n",
              "</style>\n",
              "<table border=\"1\" class=\"dataframe\">\n",
              "  <thead>\n",
              "    <tr style=\"text-align: right;\">\n",
              "      <th></th>\n",
              "      <th>Culmen Length (mm)</th>\n",
              "      <th>Culmen Depth (mm)</th>\n",
              "      <th>Flipper Length (mm)</th>\n",
              "      <th>Delta 15 N (o/oo)</th>\n",
              "      <th>Delta 13 C (o/oo)</th>\n",
              "    </tr>\n",
              "  </thead>\n",
              "  <tbody>\n",
              "    <tr>\n",
              "      <th>count</th>\n",
              "      <td>7.900000e+01</td>\n",
              "      <td>7.900000e+01</td>\n",
              "      <td>7.900000e+01</td>\n",
              "      <td>7.900000e+01</td>\n",
              "      <td>7.900000e+01</td>\n",
              "    </tr>\n",
              "    <tr>\n",
              "      <th>mean</th>\n",
              "      <td>5.621382e-18</td>\n",
              "      <td>-1.319620e-15</td>\n",
              "      <td>4.314411e-16</td>\n",
              "      <td>8.432074e-16</td>\n",
              "      <td>1.023092e-15</td>\n",
              "    </tr>\n",
              "    <tr>\n",
              "      <th>std</th>\n",
              "      <td>1.006390e+00</td>\n",
              "      <td>1.006390e+00</td>\n",
              "      <td>1.006390e+00</td>\n",
              "      <td>1.006390e+00</td>\n",
              "      <td>1.006390e+00</td>\n",
              "    </tr>\n",
              "    <tr>\n",
              "      <th>min</th>\n",
              "      <td>-1.948239e+00</td>\n",
              "      <td>-1.980462e+00</td>\n",
              "      <td>-1.906274e+00</td>\n",
              "      <td>-1.991752e+00</td>\n",
              "      <td>-1.559992e+00</td>\n",
              "    </tr>\n",
              "    <tr>\n",
              "      <th>25%</th>\n",
              "      <td>-8.526895e-01</td>\n",
              "      <td>-7.281967e-01</td>\n",
              "      <td>-7.871240e-01</td>\n",
              "      <td>-8.470913e-01</td>\n",
              "      <td>-7.869291e-01</td>\n",
              "    </tr>\n",
              "    <tr>\n",
              "      <th>50%</th>\n",
              "      <td>7.714643e-02</td>\n",
              "      <td>6.405284e-02</td>\n",
              "      <td>-2.974957e-01</td>\n",
              "      <td>-2.042377e-01</td>\n",
              "      <td>-2.972046e-01</td>\n",
              "    </tr>\n",
              "    <tr>\n",
              "      <th>75%</th>\n",
              "      <td>8.780942e-01</td>\n",
              "      <td>7.796331e-01</td>\n",
              "      <td>8.566282e-01</td>\n",
              "      <td>9.924208e-01</td>\n",
              "      <td>8.066664e-01</td>\n",
              "    </tr>\n",
              "    <tr>\n",
              "      <th>max</th>\n",
              "      <td>2.028881e+00</td>\n",
              "      <td>2.006342e+00</td>\n",
              "      <td>2.010752e+00</td>\n",
              "      <td>2.280513e+00</td>\n",
              "      <td>1.903624e+00</td>\n",
              "    </tr>\n",
              "  </tbody>\n",
              "</table>\n",
              "</div>\n",
              "      <button class=\"colab-df-convert\" onclick=\"convertToInteractive('df-182f018b-0eec-426a-ae09-b09419b9d919')\"\n",
              "              title=\"Convert this dataframe to an interactive table.\"\n",
              "              style=\"display:none;\">\n",
              "        \n",
              "  <svg xmlns=\"http://www.w3.org/2000/svg\" height=\"24px\"viewBox=\"0 0 24 24\"\n",
              "       width=\"24px\">\n",
              "    <path d=\"M0 0h24v24H0V0z\" fill=\"none\"/>\n",
              "    <path d=\"M18.56 5.44l.94 2.06.94-2.06 2.06-.94-2.06-.94-.94-2.06-.94 2.06-2.06.94zm-11 1L8.5 8.5l.94-2.06 2.06-.94-2.06-.94L8.5 2.5l-.94 2.06-2.06.94zm10 10l.94 2.06.94-2.06 2.06-.94-2.06-.94-.94-2.06-.94 2.06-2.06.94z\"/><path d=\"M17.41 7.96l-1.37-1.37c-.4-.4-.92-.59-1.43-.59-.52 0-1.04.2-1.43.59L10.3 9.45l-7.72 7.72c-.78.78-.78 2.05 0 2.83L4 21.41c.39.39.9.59 1.41.59.51 0 1.02-.2 1.41-.59l7.78-7.78 2.81-2.81c.8-.78.8-2.07 0-2.86zM5.41 20L4 18.59l7.72-7.72 1.47 1.35L5.41 20z\"/>\n",
              "  </svg>\n",
              "      </button>\n",
              "      \n",
              "  <style>\n",
              "    .colab-df-container {\n",
              "      display:flex;\n",
              "      flex-wrap:wrap;\n",
              "      gap: 12px;\n",
              "    }\n",
              "\n",
              "    .colab-df-convert {\n",
              "      background-color: #E8F0FE;\n",
              "      border: none;\n",
              "      border-radius: 50%;\n",
              "      cursor: pointer;\n",
              "      display: none;\n",
              "      fill: #1967D2;\n",
              "      height: 32px;\n",
              "      padding: 0 0 0 0;\n",
              "      width: 32px;\n",
              "    }\n",
              "\n",
              "    .colab-df-convert:hover {\n",
              "      background-color: #E2EBFA;\n",
              "      box-shadow: 0px 1px 2px rgba(60, 64, 67, 0.3), 0px 1px 3px 1px rgba(60, 64, 67, 0.15);\n",
              "      fill: #174EA6;\n",
              "    }\n",
              "\n",
              "    [theme=dark] .colab-df-convert {\n",
              "      background-color: #3B4455;\n",
              "      fill: #D2E3FC;\n",
              "    }\n",
              "\n",
              "    [theme=dark] .colab-df-convert:hover {\n",
              "      background-color: #434B5C;\n",
              "      box-shadow: 0px 1px 3px 1px rgba(0, 0, 0, 0.15);\n",
              "      filter: drop-shadow(0px 1px 2px rgba(0, 0, 0, 0.3));\n",
              "      fill: #FFFFFF;\n",
              "    }\n",
              "  </style>\n",
              "\n",
              "      <script>\n",
              "        const buttonEl =\n",
              "          document.querySelector('#df-182f018b-0eec-426a-ae09-b09419b9d919 button.colab-df-convert');\n",
              "        buttonEl.style.display =\n",
              "          google.colab.kernel.accessAllowed ? 'block' : 'none';\n",
              "\n",
              "        async function convertToInteractive(key) {\n",
              "          const element = document.querySelector('#df-182f018b-0eec-426a-ae09-b09419b9d919');\n",
              "          const dataTable =\n",
              "            await google.colab.kernel.invokeFunction('convertToInteractive',\n",
              "                                                     [key], {});\n",
              "          if (!dataTable) return;\n",
              "\n",
              "          const docLinkHtml = 'Like what you see? Visit the ' +\n",
              "            '<a target=\"_blank\" href=https://colab.research.google.com/notebooks/data_table.ipynb>data table notebook</a>'\n",
              "            + ' to learn more about interactive tables.';\n",
              "          element.innerHTML = '';\n",
              "          dataTable['output_type'] = 'display_data';\n",
              "          await google.colab.output.renderOutput(dataTable, element);\n",
              "          const docLink = document.createElement('div');\n",
              "          docLink.innerHTML = docLinkHtml;\n",
              "          element.appendChild(docLink);\n",
              "        }\n",
              "      </script>\n",
              "    </div>\n",
              "  </div>\n",
              "  "
            ],
            "text/plain": [
              "       Culmen Length (mm)  ...  Delta 13 C (o/oo)\n",
              "count        7.900000e+01  ...       7.900000e+01\n",
              "mean         5.621382e-18  ...       1.023092e-15\n",
              "std          1.006390e+00  ...       1.006390e+00\n",
              "min         -1.948239e+00  ...      -1.559992e+00\n",
              "25%         -8.526895e-01  ...      -7.869291e-01\n",
              "50%          7.714643e-02  ...      -2.972046e-01\n",
              "75%          8.780942e-01  ...       8.066664e-01\n",
              "max          2.028881e+00  ...       1.903624e+00\n",
              "\n",
              "[8 rows x 5 columns]"
            ]
          },
          "metadata": {},
          "execution_count": 25
        }
      ]
    },
    {
      "cell_type": "code",
      "source": [
        "def RMSE(true, pred):\n",
        "    score = np.sqrt(np.mean(np.square(true-pred)))\n",
        "    return score"
      ],
      "metadata": {
        "id": "jWl9s2LRBjPI"
      },
      "execution_count": 26,
      "outputs": []
    },
    {
      "cell_type": "code",
      "source": [
        "x_train.info()"
      ],
      "metadata": {
        "colab": {
          "base_uri": "https://localhost:8080/"
        },
        "id": "XocYZfV3CR4D",
        "outputId": "57bcb069-0815-4355-a5b0-9516a947f5b5"
      },
      "execution_count": 27,
      "outputs": [
        {
          "output_type": "stream",
          "name": "stdout",
          "text": [
            "<class 'pandas.core.frame.DataFrame'>\n",
            "RangeIndex: 79 entries, 0 to 78\n",
            "Data columns (total 16 columns):\n",
            " #   Column                                     Non-Null Count  Dtype  \n",
            "---  ------                                     --------------  -----  \n",
            " 0   Culmen Length (mm)                         79 non-null     float64\n",
            " 1   Culmen Depth (mm)                          79 non-null     float64\n",
            " 2   Flipper Length (mm)                        79 non-null     float64\n",
            " 3   Delta 15 N (o/oo)                          79 non-null     float64\n",
            " 4   Delta 13 C (o/oo)                          79 non-null     float64\n",
            " 5   Adelie Penguin (Pygoscelis adeliae)        79 non-null     float64\n",
            " 6   Chinstrap penguin (Pygoscelis antarctica)  79 non-null     float64\n",
            " 7   Gentoo penguin (Pygoscelis papua)          79 non-null     float64\n",
            " 8   Biscoe                                     79 non-null     float64\n",
            " 9   Dream                                      79 non-null     float64\n",
            " 10  Torgersen                                  79 non-null     float64\n",
            " 11  No                                         79 non-null     float64\n",
            " 12  Yes                                        79 non-null     float64\n",
            " 13  FEMALE                                     79 non-null     float64\n",
            " 14  MALE                                       79 non-null     float64\n",
            " 15  nan                                        79 non-null     float64\n",
            "dtypes: float64(16)\n",
            "memory usage: 10.0 KB\n"
          ]
        }
      ]
    },
    {
      "cell_type": "code",
      "source": [
        "from sklearn.neighbors import KNeighborsRegressor\n",
        "from sklearn.linear_model import LinearRegression\n",
        "from sklearn.linear_model import Ridge\n",
        "from sklearn.linear_model import Lasso\n",
        "from sklearn.tree import DecisionTreeRegressor\n",
        "from sklearn.ensemble import RandomForestRegressor\n",
        "from sklearn.ensemble import GradientBoostingRegressor\n",
        "from xgboost import XGBRegressor\n",
        "from lightgbm import LGBMRegressor\n",
        "score_List=[]"
      ],
      "metadata": {
        "id": "CDFW_5ApjgjO"
      },
      "execution_count": 41,
      "outputs": []
    },
    {
      "cell_type": "code",
      "source": [
        "model = KNeighborsRegressor(n_neighbors=5).fit(x_train, y_train)\n",
        "score_List.append(f'KNeighborsRegressor: train_score: {model.score(x_train, y_train)}, val_score: {model.score(x_valid, y_valid)}')\n",
        "\n",
        "model = LinearRegression().fit(x_train, y_train)\n",
        "score_List.append(f'LinearRegression: train_score: {model.score(x_train, y_train)}, val_score: {model.score(x_valid, y_valid)}')\n",
        "\n",
        "model = Ridge().fit(x_train, y_train)\n",
        "score_List.append(f'Ridge: train_score: {model.score(x_train, y_train)}, val_score: {model.score(x_valid, y_valid)}')\n",
        "\n",
        "model = Lasso().fit(x_train, y_train)\n",
        "score_List.append(f'Lasso: train_score: {model.score(x_train, y_train)}, val_score: {model.score(x_valid, y_valid)}')\n",
        "\n",
        "model = DecisionTreeRegressor().fit(x_train, y_train)\n",
        "score_List.append(f'DecisionTreeRegressor: train_score: {model.score(x_train, y_train)}, val_score: {model.score(x_valid, y_valid)}')\n",
        "\n",
        "model = RandomForestRegressor().fit(x_train, y_train)\n",
        "score_List.append(f'RandomForestRegressor: train_score: {model.score(x_train, y_train)}, val_score: {model.score(x_valid, y_valid)}')\n",
        "\n",
        "model = GradientBoostingRegressor().fit(x_train, y_train)\n",
        "score_List.append(f'GradientBoostingRegressor: train_score: {model.score(x_train, y_train)}, val_score: {model.score(x_valid, y_valid)}')\n",
        "\n",
        "model = XGBRegressor().fit(x_train, y_train)\n",
        "score_List.append(f'XGBRegressor: train_score: {model.score(x_train, y_train)}, val_score: {model.score(x_valid, y_valid)}')\n",
        "\n",
        "model = LGBMRegressor().fit(x_train, y_train)\n",
        "score_List.append(f'LGBMRegressor: train_score: {model.score(x_train, y_train)}, val_score: {model.score(x_valid, y_valid)}')"
      ],
      "metadata": {
        "colab": {
          "base_uri": "https://localhost:8080/"
        },
        "id": "W6Uw6Wspjglw",
        "outputId": "38c1f631-277b-46e0-c5f7-295566d31b3c"
      },
      "execution_count": 42,
      "outputs": [
        {
          "output_type": "stream",
          "name": "stdout",
          "text": [
            "[03:21:36] WARNING: /workspace/src/objective/regression_obj.cu:152: reg:linear is now deprecated in favor of reg:squarederror.\n"
          ]
        }
      ]
    },
    {
      "cell_type": "code",
      "source": [
        "[print(i) for i in score_List]"
      ],
      "metadata": {
        "colab": {
          "base_uri": "https://localhost:8080/"
        },
        "id": "duQ-2kWVjiuB",
        "outputId": "226c4eec-3170-4f44-d062-0d4c99794fed"
      },
      "execution_count": 43,
      "outputs": [
        {
          "output_type": "stream",
          "name": "stdout",
          "text": [
            "KNeighborsRegressor: train_score: 0.8849189955988768, val_score: 0.7497053726169844\n",
            "LinearRegression: train_score: 0.8721985093781489, val_score: 0.8001381308457658\n",
            "Ridge: train_score: 0.8697086833082444, val_score: 0.7936489828838199\n",
            "Lasso: train_score: 0.8720529070156923, val_score: 0.7997623038528142\n",
            "DecisionTreeRegressor: train_score: 1.0, val_score: 0.3217892786708899\n",
            "RandomForestRegressor: train_score: 0.9754065404305767, val_score: 0.6825782137094365\n",
            "GradientBoostingRegressor: train_score: 0.9944569050898459, val_score: 0.6294465221279213\n",
            "XGBRegressor: train_score: 0.9819615673475177, val_score: 0.7478546508364203\n",
            "LGBMRegressor: train_score: 0.8932148222626578, val_score: 0.7273957346445322\n"
          ]
        },
        {
          "output_type": "execute_result",
          "data": {
            "text/plain": [
              "[None, None, None, None, None, None, None, None, None]"
            ]
          },
          "metadata": {},
          "execution_count": 43
        }
      ]
    },
    {
      "cell_type": "code",
      "source": [
        "model_LR = LinearRegression().fit(x_train, y_train)\n",
        "model_RID = Ridge().fit(x_train, y_train)\n",
        "model_LA = Lasso().fit(x_train, y_train)\n",
        "model_LGBM = LGBMRegressor().fit(x_train, y_train)\n",
        "model_XGB = XGBRegressor().fit(x_train, y_train)"
      ],
      "metadata": {
        "colab": {
          "base_uri": "https://localhost:8080/"
        },
        "id": "IAIS-slzjiw5",
        "outputId": "81b2f4d7-3655-462a-82c2-92e4030f5473"
      },
      "execution_count": 44,
      "outputs": [
        {
          "output_type": "stream",
          "name": "stdout",
          "text": [
            "[03:21:58] WARNING: /workspace/src/objective/regression_obj.cu:152: reg:linear is now deprecated in favor of reg:squarederror.\n"
          ]
        }
      ]
    },
    {
      "cell_type": "code",
      "source": [
        "pred_LR = model_LR.predict(x_test)\n",
        "pred_RID = model_RID.predict(x_test)\n",
        "pred_LA = model_LA.predict(x_test)\n",
        "pred_LGBM = model_LGBM.predict(x_test)\n",
        "pred_XGB = model_XGB.predict(x_test)\n",
        "pred = pred_LR*0.2 + pred_RID*0.2 + pred_LA*0.2 + pred_LGBM*0.2 + pred_XGB*0.2\n",
        "pred"
      ],
      "metadata": {
        "colab": {
          "base_uri": "https://localhost:8080/"
        },
        "id": "PEzvjMdgjizU",
        "outputId": "e0ff7efd-6d5c-419d-fb42-8fd3dfcc4db6"
      },
      "execution_count": 45,
      "outputs": [
        {
          "output_type": "execute_result",
          "data": {
            "text/plain": [
              "array([4228.48784154, 5609.12730466, 3572.24269651, 3425.11371218,\n",
              "       3428.88115701, 4143.26463609, 4530.92938354, 5102.23888001,\n",
              "       4799.47575603, 3912.4812323 , 4131.399232  , 4545.74911334,\n",
              "       4786.31789525, 4720.82856769, 4939.01879213, 5139.51936389,\n",
              "       4154.18451475, 3879.2463362 , 3483.40785881, 3548.06455298,\n",
              "       4048.9657466 , 5504.11157567, 5332.08637156, 4099.82330594,\n",
              "       3436.29003294, 4560.17410937, 3512.94945018, 3967.14847324,\n",
              "       4040.06997535, 4592.51306444, 3532.39273962, 4801.69019492,\n",
              "       3450.71337321, 4962.81094357, 3977.77336476, 3374.06046651,\n",
              "       4497.39240547, 3619.27548537, 3916.56949828, 4531.74058455,\n",
              "       4151.99514317, 3553.71169252, 3969.07451611, 5363.06521705,\n",
              "       3685.15721341, 4520.04395632, 3755.48492132, 4181.4369447 ,\n",
              "       4801.06683958, 5500.00554603, 3692.12283677, 3981.37072706,\n",
              "       3441.22526815, 4096.95254126, 4207.42840764, 4013.08138962,\n",
              "       4548.46434762, 3982.98795527, 4800.95246353, 3642.93222017,\n",
              "       3948.20817095, 3500.10820095, 3960.63980694, 5523.59636594,\n",
              "       3488.77642374, 4195.83543938, 4115.52734102, 4622.07188767,\n",
              "       3842.27497994, 3939.43963265, 4785.13521656, 3366.75598281,\n",
              "       3588.81997234, 3546.1250248 , 5304.74942165, 4257.1857594 ,\n",
              "       3371.90572386, 3881.13892757, 5334.83181518, 4706.05425224,\n",
              "       4073.30243654, 3635.72868436, 4123.8576334 , 4704.72617154,\n",
              "       5149.97620466, 4142.6715327 , 5182.37624825, 4156.282757  ,\n",
              "       3497.07732966, 5159.26239194, 4510.82181519, 3580.43643922,\n",
              "       3544.7523072 , 3759.29183903, 3436.34268347, 3525.36529431,\n",
              "       3544.90806163, 3298.13256142, 5010.60311361, 4139.12914764,\n",
              "       3604.57672871, 3345.50407492, 3330.97159452, 5251.03454966,\n",
              "       5702.61084157, 3297.89692453, 5227.46004593, 5245.84331594,\n",
              "       4099.37210571, 3365.00829516, 4507.64015731, 3322.17030191,\n",
              "       4054.08861939, 3922.139703  , 5191.52585433, 3873.20253163,\n",
              "       3556.52036988, 3456.36327307, 4136.56105796, 3946.6090149 ,\n",
              "       4069.8491354 , 5262.69941894, 3451.02655603, 4376.96211158,\n",
              "       4015.18461521, 4109.13319913, 5130.07894815, 4068.24837514,\n",
              "       3416.83678107, 3789.37539779, 4021.95207618, 3876.35247103,\n",
              "       5244.00620925, 5131.41059961, 5248.50901438, 3812.666904  ,\n",
              "       3584.89312297, 3539.89473936, 4687.76506992, 3538.64918727,\n",
              "       3861.65291734, 4523.39383884, 3223.64500505, 3367.70777161,\n",
              "       4208.84800422, 3461.84693365, 4602.27190024, 3610.6799105 ,\n",
              "       5415.02202244, 4198.81433044, 5223.07326021, 3487.14858468,\n",
              "       5050.10194986, 5249.91024102, 4049.48963619, 5529.54210053,\n",
              "       3484.21224763, 4073.75578664, 3542.78682412, 3518.03323873,\n",
              "       3942.6650216 , 3490.51044774, 3339.85884722, 3317.63706461,\n",
              "       5169.24972429, 3436.48989535, 5422.24321903, 4790.17266924,\n",
              "       3875.8731222 , 3769.60342883, 5522.52462519, 3480.99011549,\n",
              "       5268.23894778, 3403.74589682, 3496.43386855, 3999.65388   ,\n",
              "       4177.50569368, 4462.10246077, 5221.45242901, 3429.13185941,\n",
              "       3869.37865064, 4314.49593886, 4020.24933603, 4278.30220387,\n",
              "       4502.52886736, 4246.82272662, 4909.13123809, 5166.02494918,\n",
              "       3394.20167114, 3184.51088376, 4170.52283134, 3615.8875295 ,\n",
              "       3711.69658493, 4075.10800712, 4875.56557432, 5381.13504662,\n",
              "       4077.28960719, 5249.70067225, 3482.76471788, 3428.86904987,\n",
              "       3810.80553769, 4745.28750103, 3841.66524042, 4753.10136063,\n",
              "       4064.31935849, 3677.9722378 , 3494.10783991, 4114.13481628,\n",
              "       4801.17453029, 5003.25379464, 3264.24444047, 3445.37376925,\n",
              "       3471.65965049, 3625.00814716, 3546.77352421, 3852.29002174,\n",
              "       5266.29875162, 3577.43559584, 4094.97613922, 3906.98556776,\n",
              "       3468.56382539, 3425.10857131, 4717.80113788, 4080.58728821,\n",
              "       4829.03051193, 4503.25616031, 4062.93358403, 3948.28137312])"
            ]
          },
          "metadata": {},
          "execution_count": 45
        }
      ]
    },
    {
      "cell_type": "code",
      "source": [
        ""
      ],
      "metadata": {
        "id": "OPGoHOU0jrPb"
      },
      "execution_count": null,
      "outputs": []
    },
    {
      "cell_type": "code",
      "source": [
        ""
      ],
      "metadata": {
        "id": "qotTW_m7jrRK"
      },
      "execution_count": null,
      "outputs": []
    },
    {
      "cell_type": "code",
      "source": [
        "# # 모델 검증 + OOF 앙상블\n",
        "# from sklearn.model_selection import KFold\n",
        "# n_splits = 5\n",
        "# kf = KFold(n_splits=n_splits, shuffle=True, random_state=42)"
      ],
      "metadata": {
        "id": "M7Pc6jLmN5XZ"
      },
      "execution_count": 28,
      "outputs": []
    },
    {
      "cell_type": "code",
      "source": [
        "# # 회귀 모델 사용해보기\n",
        "# from sklearn.linear_model import LinearRegression\n",
        "# from sklearn.neural_network import MLPRegressor\n",
        "# from sklearn.ensemble import RandomForestRegressor\n",
        "# from xgboost import XGBRegressor\n",
        "# from lightgbm import LGBMRegressor\n",
        "\n",
        "# val_scores = list()\n",
        "# #oof_pred = np.zeros((x_test.shape[0], label.shape[0])\n",
        "\n",
        "# models = [['Linear Regression', LinearRegression(n_jobs=n_cpus)],\n",
        "#           ['MultiLayerPerceptron', MLPRegressor(random_state=42)],\n",
        "#           ['RandomForest', RandomForestRegressor(random_state=42,\n",
        "#                                                  n_jobs=n_cpus)],\n",
        "#           ['XGBoost', XGBRegressor(random_state=42,\n",
        "#                                    tree_method='gpu_hist',\n",
        "#                                    n_jobs=n_cpus)],\n",
        "#           ['LightGBM', LGBMRegressor(random_state=42,\n",
        "#                                      tree_method='gpu_hist',\n",
        "#                                      n_jobs=n_cpus)]]\n",
        "\n",
        "# best_loss = np.inf\n",
        "# best_pred = None\n",
        "# for i, (name, model) in enumerate(models):\n",
        "#   current_loss = list()\n",
        "#   current_pred = list()\n",
        "  \n",
        "#   model.fit(x_train, y_train)\n",
        "#   y_pred = model.predict(x_valid)\n",
        "#   current_loss.append(RMSE(y_valid, y_pred))\n",
        "#   current_pred.append(model.predict(x_test))\n",
        "\n",
        "#   if np.mean(current_loss) < best_loss:\n",
        "#       best_loss  = np.mean(current_loss)\n",
        "#       best_model = [i, name]\n",
        "#       best_pred  = current_pred\n",
        "#       #oof_pred += model.predict(x_test) / n_splits\n",
        "    \n",
        "#   print(f'{name} Model Validation RMSE: {np.mean(current_loss)}')\n",
        "\n",
        "# print(f'Best Model: {best_model[-1]}, RMSE: {best_loss}')"
      ],
      "metadata": {
        "colab": {
          "base_uri": "https://localhost:8080/"
        },
        "id": "UDwJxULn-kol",
        "outputId": "5c40fbc2-c49d-4e60-a6fb-8a1441492e96"
      },
      "execution_count": 29,
      "outputs": [
        {
          "output_type": "stream",
          "name": "stdout",
          "text": [
            "Linear Regression Model Validation RMSE: 345.59930641040074\n",
            "MultiLayerPerceptron Model Validation RMSE: 4632.256876832222\n",
            "RandomForest Model Validation RMSE: 441.50552698368665\n",
            "[03:18:30] WARNING: /workspace/src/objective/regression_obj.cu:152: reg:linear is now deprecated in favor of reg:squarederror.\n",
            "XGBoost Model Validation RMSE: 386.85679306184494\n",
            "LightGBM Model Validation RMSE: 403.621426772355\n",
            "Best Model: Linear Regression, RMSE: 345.59930641040074\n"
          ]
        }
      ]
    },
    {
      "cell_type": "code",
      "source": [
        "# # best_pred를 np.array()로 만든 후에 (list를 array로 만들어줌.)\n",
        "# best_pred = np.array(best_pred)\n",
        "# best_pred.shape"
      ],
      "metadata": {
        "colab": {
          "base_uri": "https://localhost:8080/"
        },
        "id": "vy5f_lsYDkRc",
        "outputId": "093396ec-5826-4b39-977f-d37a62a999f4"
      },
      "execution_count": 30,
      "outputs": [
        {
          "output_type": "execute_result",
          "data": {
            "text/plain": [
              "(1, 228)"
            ]
          },
          "metadata": {},
          "execution_count": 30
        }
      ]
    },
    {
      "cell_type": "code",
      "source": [
        "# best_pred = best_pred.reshape(-1, 1)\n",
        "# best_pred.shape"
      ],
      "metadata": {
        "colab": {
          "base_uri": "https://localhost:8080/"
        },
        "id": "ZQO5z75-IoaU",
        "outputId": "59023c0d-a614-4b8c-f8a3-5286b243b5f0"
      },
      "execution_count": 31,
      "outputs": [
        {
          "output_type": "execute_result",
          "data": {
            "text/plain": [
              "(228, 1)"
            ]
          },
          "metadata": {},
          "execution_count": 31
        }
      ]
    },
    {
      "cell_type": "code",
      "source": [
        "submit = pd.read_csv('/content/drive/MyDrive/Colab Notebooks/dacon/penguin/sample_submission.csv')\n",
        "submit.head()"
      ],
      "metadata": {
        "colab": {
          "base_uri": "https://localhost:8080/",
          "height": 206
        },
        "id": "DupZriyqG1Xx",
        "outputId": "4cbf865e-3449-4db4-9a8d-fb1b338b166f"
      },
      "execution_count": 46,
      "outputs": [
        {
          "output_type": "execute_result",
          "data": {
            "text/html": [
              "\n",
              "  <div id=\"df-0f31621c-30c4-49ea-9354-6afb099ef9a0\">\n",
              "    <div class=\"colab-df-container\">\n",
              "      <div>\n",
              "<style scoped>\n",
              "    .dataframe tbody tr th:only-of-type {\n",
              "        vertical-align: middle;\n",
              "    }\n",
              "\n",
              "    .dataframe tbody tr th {\n",
              "        vertical-align: top;\n",
              "    }\n",
              "\n",
              "    .dataframe thead th {\n",
              "        text-align: right;\n",
              "    }\n",
              "</style>\n",
              "<table border=\"1\" class=\"dataframe\">\n",
              "  <thead>\n",
              "    <tr style=\"text-align: right;\">\n",
              "      <th></th>\n",
              "      <th>id</th>\n",
              "      <th>Body Mass (g)</th>\n",
              "    </tr>\n",
              "  </thead>\n",
              "  <tbody>\n",
              "    <tr>\n",
              "      <th>0</th>\n",
              "      <td>0</td>\n",
              "      <td>0</td>\n",
              "    </tr>\n",
              "    <tr>\n",
              "      <th>1</th>\n",
              "      <td>1</td>\n",
              "      <td>0</td>\n",
              "    </tr>\n",
              "    <tr>\n",
              "      <th>2</th>\n",
              "      <td>2</td>\n",
              "      <td>0</td>\n",
              "    </tr>\n",
              "    <tr>\n",
              "      <th>3</th>\n",
              "      <td>3</td>\n",
              "      <td>0</td>\n",
              "    </tr>\n",
              "    <tr>\n",
              "      <th>4</th>\n",
              "      <td>4</td>\n",
              "      <td>0</td>\n",
              "    </tr>\n",
              "  </tbody>\n",
              "</table>\n",
              "</div>\n",
              "      <button class=\"colab-df-convert\" onclick=\"convertToInteractive('df-0f31621c-30c4-49ea-9354-6afb099ef9a0')\"\n",
              "              title=\"Convert this dataframe to an interactive table.\"\n",
              "              style=\"display:none;\">\n",
              "        \n",
              "  <svg xmlns=\"http://www.w3.org/2000/svg\" height=\"24px\"viewBox=\"0 0 24 24\"\n",
              "       width=\"24px\">\n",
              "    <path d=\"M0 0h24v24H0V0z\" fill=\"none\"/>\n",
              "    <path d=\"M18.56 5.44l.94 2.06.94-2.06 2.06-.94-2.06-.94-.94-2.06-.94 2.06-2.06.94zm-11 1L8.5 8.5l.94-2.06 2.06-.94-2.06-.94L8.5 2.5l-.94 2.06-2.06.94zm10 10l.94 2.06.94-2.06 2.06-.94-2.06-.94-.94-2.06-.94 2.06-2.06.94z\"/><path d=\"M17.41 7.96l-1.37-1.37c-.4-.4-.92-.59-1.43-.59-.52 0-1.04.2-1.43.59L10.3 9.45l-7.72 7.72c-.78.78-.78 2.05 0 2.83L4 21.41c.39.39.9.59 1.41.59.51 0 1.02-.2 1.41-.59l7.78-7.78 2.81-2.81c.8-.78.8-2.07 0-2.86zM5.41 20L4 18.59l7.72-7.72 1.47 1.35L5.41 20z\"/>\n",
              "  </svg>\n",
              "      </button>\n",
              "      \n",
              "  <style>\n",
              "    .colab-df-container {\n",
              "      display:flex;\n",
              "      flex-wrap:wrap;\n",
              "      gap: 12px;\n",
              "    }\n",
              "\n",
              "    .colab-df-convert {\n",
              "      background-color: #E8F0FE;\n",
              "      border: none;\n",
              "      border-radius: 50%;\n",
              "      cursor: pointer;\n",
              "      display: none;\n",
              "      fill: #1967D2;\n",
              "      height: 32px;\n",
              "      padding: 0 0 0 0;\n",
              "      width: 32px;\n",
              "    }\n",
              "\n",
              "    .colab-df-convert:hover {\n",
              "      background-color: #E2EBFA;\n",
              "      box-shadow: 0px 1px 2px rgba(60, 64, 67, 0.3), 0px 1px 3px 1px rgba(60, 64, 67, 0.15);\n",
              "      fill: #174EA6;\n",
              "    }\n",
              "\n",
              "    [theme=dark] .colab-df-convert {\n",
              "      background-color: #3B4455;\n",
              "      fill: #D2E3FC;\n",
              "    }\n",
              "\n",
              "    [theme=dark] .colab-df-convert:hover {\n",
              "      background-color: #434B5C;\n",
              "      box-shadow: 0px 1px 3px 1px rgba(0, 0, 0, 0.15);\n",
              "      filter: drop-shadow(0px 1px 2px rgba(0, 0, 0, 0.3));\n",
              "      fill: #FFFFFF;\n",
              "    }\n",
              "  </style>\n",
              "\n",
              "      <script>\n",
              "        const buttonEl =\n",
              "          document.querySelector('#df-0f31621c-30c4-49ea-9354-6afb099ef9a0 button.colab-df-convert');\n",
              "        buttonEl.style.display =\n",
              "          google.colab.kernel.accessAllowed ? 'block' : 'none';\n",
              "\n",
              "        async function convertToInteractive(key) {\n",
              "          const element = document.querySelector('#df-0f31621c-30c4-49ea-9354-6afb099ef9a0');\n",
              "          const dataTable =\n",
              "            await google.colab.kernel.invokeFunction('convertToInteractive',\n",
              "                                                     [key], {});\n",
              "          if (!dataTable) return;\n",
              "\n",
              "          const docLinkHtml = 'Like what you see? Visit the ' +\n",
              "            '<a target=\"_blank\" href=https://colab.research.google.com/notebooks/data_table.ipynb>data table notebook</a>'\n",
              "            + ' to learn more about interactive tables.';\n",
              "          element.innerHTML = '';\n",
              "          dataTable['output_type'] = 'display_data';\n",
              "          await google.colab.output.renderOutput(dataTable, element);\n",
              "          const docLink = document.createElement('div');\n",
              "          docLink.innerHTML = docLinkHtml;\n",
              "          element.appendChild(docLink);\n",
              "        }\n",
              "      </script>\n",
              "    </div>\n",
              "  </div>\n",
              "  "
            ],
            "text/plain": [
              "   id  Body Mass (g)\n",
              "0   0              0\n",
              "1   1              0\n",
              "2   2              0\n",
              "3   3              0\n",
              "4   4              0"
            ]
          },
          "metadata": {},
          "execution_count": 46
        }
      ]
    },
    {
      "cell_type": "code",
      "source": [
        "submit['Body Mass (g)'] = pred"
      ],
      "metadata": {
        "id": "c0kS50vZ_Ni0"
      },
      "execution_count": 47,
      "outputs": []
    },
    {
      "cell_type": "code",
      "source": [
        "submit_file_name = 'penguin_second.csv'\n",
        "submit.to_csv(submit_file_name, index=False)"
      ],
      "metadata": {
        "id": "X224qByBG_tL"
      },
      "execution_count": 48,
      "outputs": []
    },
    {
      "cell_type": "code",
      "source": [
        ""
      ],
      "metadata": {
        "id": "BjkziM2jD2Cp"
      },
      "execution_count": null,
      "outputs": []
    }
  ]
}